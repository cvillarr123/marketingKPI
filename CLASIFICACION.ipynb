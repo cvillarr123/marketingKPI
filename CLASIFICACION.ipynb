{
  "nbformat": 4,
  "nbformat_minor": 0,
  "metadata": {
    "colab": {
      "name": "CLASIFICACION ",
      "provenance": [],
      "collapsed_sections": [
        "dnkuViuo2KBJ",
        "VOiN7MLNvEcl",
        "qPaWBHCFHzXo",
        "5L8Z1zO7Ktuk",
        "WrMGH5qfxok2",
        "ZgoSH3Hyz8wy",
        "cKAMbT00ZS3B",
        "16eHS42nb78H"
      ],
      "include_colab_link": true
    },
    "kernelspec": {
      "name": "python3",
      "display_name": "Python 3"
    },
    "language_info": {
      "name": "python"
    }
  },
  "cells": [
    {
      "cell_type": "markdown",
      "metadata": {
        "id": "view-in-github",
        "colab_type": "text"
      },
      "source": [
        "<a href=\"https://colab.research.google.com/github/cvillarr123/marketingKPI/blob/main/CLASIFICACION.ipynb\" target=\"_parent\"><img src=\"https://colab.research.google.com/assets/colab-badge.svg\" alt=\"Open In Colab\"/></a>"
      ]
    },
    {
      "cell_type": "code",
      "metadata": {
        "id": "z6aZmfCMr2d8",
        "colab": {
          "base_uri": "https://localhost:8080/",
          "height": 455
        },
        "outputId": "1da1f857-13a5-4a44-f533-313f78b8f2cb"
      },
      "source": [
        "#0.- Librerias \n",
        "\n",
        "import numpy as np\n",
        "import pandas as pd\n",
        "import matplotlib.pyplot as plt\n",
        "import seaborn as sns\n",
        "from sklearn.linear_model import LogisticRegression\n",
        "from sklearn.model_selection import train_test_split\n",
        "\n",
        "from google.colab import drive\n",
        "from google.colab import auth\n",
        "auth.authenticate_user()\n",
        "import gspread\n",
        "from oauth2client.client import GoogleCredentials\n",
        "gc = gspread.authorize(GoogleCredentials.get_application_default())\n",
        "drive.mount('/content/drive')\n",
        "\n",
        "\n",
        "\n",
        "# Input data files are available in the \"../input/\" directory.\n",
        "# For example, running this (by clicking run or pressing Shift+Enter) will list the files in the input directory\n",
        "\n",
        "import os\n"
      ],
      "execution_count": 2,
      "outputs": [
        {
          "output_type": "stream",
          "text": [
            "Go to this URL in a browser: https://accounts.google.com/o/oauth2/auth?client_id=947318989803-6bn6qk8qdgf4n4g3pfee6491hc0brc4i.apps.googleusercontent.com&redirect_uri=urn%3aietf%3awg%3aoauth%3a2.0%3aoob&scope=email%20https%3a%2f%2fwww.googleapis.com%2fauth%2fdocs.test%20https%3a%2f%2fwww.googleapis.com%2fauth%2fdrive%20https%3a%2f%2fwww.googleapis.com%2fauth%2fdrive.photos.readonly%20https%3a%2f%2fwww.googleapis.com%2fauth%2fpeopleapi.readonly%20https%3a%2f%2fwww.googleapis.com%2fauth%2fdrive.activity.readonly%20https%3a%2f%2fwww.googleapis.com%2fauth%2fexperimentsandconfigs%20https%3a%2f%2fwww.googleapis.com%2fauth%2fphotos.native&response_type=code\n",
            "\n",
            "Enter your authorization code:\n",
            "4/1AX4XfWiPJd5qDQ6gzVMWbndkmdoYNSMh9pHp338ZxU9eXeLmngGIHPoStTs\n"
          ],
          "name": "stdout"
        },
        {
          "output_type": "error",
          "ename": "ValueError",
          "evalue": "ignored",
          "traceback": [
            "\u001b[0;31m---------------------------------------------------------------------------\u001b[0m",
            "\u001b[0;31mValueError\u001b[0m                                Traceback (most recent call last)",
            "\u001b[0;32m<ipython-input-2-c6b506a74cf1>\u001b[0m in \u001b[0;36m<module>\u001b[0;34m()\u001b[0m\n\u001b[1;32m     14\u001b[0m \u001b[0;32mfrom\u001b[0m \u001b[0moauth2client\u001b[0m\u001b[0;34m.\u001b[0m\u001b[0mclient\u001b[0m \u001b[0;32mimport\u001b[0m \u001b[0mGoogleCredentials\u001b[0m\u001b[0;34m\u001b[0m\u001b[0;34m\u001b[0m\u001b[0m\n\u001b[1;32m     15\u001b[0m \u001b[0mgc\u001b[0m \u001b[0;34m=\u001b[0m \u001b[0mgspread\u001b[0m\u001b[0;34m.\u001b[0m\u001b[0mauthorize\u001b[0m\u001b[0;34m(\u001b[0m\u001b[0mGoogleCredentials\u001b[0m\u001b[0;34m.\u001b[0m\u001b[0mget_application_default\u001b[0m\u001b[0;34m(\u001b[0m\u001b[0;34m)\u001b[0m\u001b[0;34m)\u001b[0m\u001b[0;34m\u001b[0m\u001b[0;34m\u001b[0m\u001b[0m\n\u001b[0;32m---> 16\u001b[0;31m \u001b[0mdrive\u001b[0m\u001b[0;34m.\u001b[0m\u001b[0mmount\u001b[0m\u001b[0;34m(\u001b[0m\u001b[0;34m'/content/drive'\u001b[0m\u001b[0;34m)\u001b[0m\u001b[0;34m\u001b[0m\u001b[0;34m\u001b[0m\u001b[0m\n\u001b[0m\u001b[1;32m     17\u001b[0m \u001b[0;34m\u001b[0m\u001b[0m\n\u001b[1;32m     18\u001b[0m \u001b[0;34m\u001b[0m\u001b[0m\n",
            "\u001b[0;32m/usr/local/lib/python3.7/dist-packages/google/colab/drive.py\u001b[0m in \u001b[0;36mmount\u001b[0;34m(mountpoint, force_remount, timeout_ms, use_metadata_server)\u001b[0m\n\u001b[1;32m    265\u001b[0m       \u001b[0mwrote_to_fifo\u001b[0m \u001b[0;34m=\u001b[0m \u001b[0;32mTrue\u001b[0m\u001b[0;34m\u001b[0m\u001b[0;34m\u001b[0m\u001b[0m\n\u001b[1;32m    266\u001b[0m     \u001b[0;32melif\u001b[0m \u001b[0mcase\u001b[0m \u001b[0;34m==\u001b[0m \u001b[0;36m5\u001b[0m\u001b[0;34m:\u001b[0m\u001b[0;34m\u001b[0m\u001b[0;34m\u001b[0m\u001b[0m\n\u001b[0;32m--> 267\u001b[0;31m       \u001b[0;32mraise\u001b[0m \u001b[0mValueError\u001b[0m\u001b[0;34m(\u001b[0m\u001b[0;34m'mount failed: invalid oauth code'\u001b[0m\u001b[0;34m)\u001b[0m\u001b[0;34m\u001b[0m\u001b[0;34m\u001b[0m\u001b[0m\n\u001b[0m\u001b[1;32m    268\u001b[0m     \u001b[0;32melif\u001b[0m \u001b[0mcase\u001b[0m \u001b[0;34m==\u001b[0m \u001b[0;36m6\u001b[0m\u001b[0;34m:\u001b[0m\u001b[0;34m\u001b[0m\u001b[0;34m\u001b[0m\u001b[0m\n\u001b[1;32m    269\u001b[0m       \u001b[0;31m# Terminate the DriveFS binary before killing bash.\u001b[0m\u001b[0;34m\u001b[0m\u001b[0;34m\u001b[0m\u001b[0;34m\u001b[0m\u001b[0m\n",
            "\u001b[0;31mValueError\u001b[0m: mount failed: invalid oauth code"
          ]
        }
      ]
    },
    {
      "cell_type": "code",
      "metadata": {
        "id": "oliXzw1OD0KG"
      },
      "source": [
        "import json"
      ],
      "execution_count": 17,
      "outputs": []
    },
    {
      "cell_type": "code",
      "metadata": {
        "id": "zrM7p5JW029l"
      },
      "source": [
        "#path='/content/drive/My Drive/PROYECTO DATA SCIENCE/Data/DATA DRIVE.xlsx'\n",
        "#data = pd.read_excel(path,sheet_name='EDAD Y GENERO')\n",
        "\n",
        "path='DATA DRIVE.xlsx'\n",
        "data = pd.read_excel(path,sheet_name='EDAD Y GENERO')\n"
      ],
      "execution_count": 4,
      "outputs": []
    },
    {
      "cell_type": "markdown",
      "metadata": {
        "id": "x-aWO4_Espk-"
      },
      "source": [
        "** Funciones para graficar en el dash**"
      ]
    },
    {
      "cell_type": "code",
      "metadata": {
        "id": "0UdW6EaWsojh"
      },
      "source": [
        "# graficar dos tipos de grafico de barras de las categorias\n",
        "# pasas la columna de las categorias en eje x\n",
        "def graficar_categorias_vs_objetivo(data, x_col, y_col, tipo_grafico) :\n",
        "  import plotly.express as px\n",
        "  if (len(tipo_grafico) >= 1 and tipo_grafico[0] == 1)  :\n",
        "    fig2 = px.histogram(data, x=x_col, y=y_col, histfunc='sum', height=300,\n",
        "                        title='Histograma')\n",
        "    fig2.show()\n",
        "  if (len(tipo_grafico) >= 2 and tipo_grafico[0] == 1)  :  \n",
        "    fig1 = px.bar(data, x=x_col, y=y_col, height=300,\n",
        "                  title='Grafico barras apiladas - Hover on individual items')\n",
        "    fig1.show()"
      ],
      "execution_count": 5,
      "outputs": []
    },
    {
      "cell_type": "code",
      "metadata": {
        "id": "r2BAQ0ws2Wo4"
      },
      "source": [
        "def dibujar_box_plot(datos, x_col, y_col, orientacion) :\n",
        "     sns.boxplot(y= datos[x_col] , x= datos[y_col], orient=orientacion)\n",
        "\n",
        "# ejemplo \n",
        "# dibujar_box_plot(data, 'Costperon-Facebooklead', 'Clasificacion', 'v')     "
      ],
      "execution_count": 6,
      "outputs": []
    },
    {
      "cell_type": "code",
      "metadata": {
        "id": "zsr-Z91o9JhL"
      },
      "source": [
        "def graficar_countplot ( datos, x_col, y_col, paleta ) :\n",
        "  chart = sns.countplot(x=x_col, data=datos, palette=paleta)\n",
        "  chart.set_xticklabels(chart.get_xticklabels(), fontsize=7)\n",
        "  chart.set(xlabel=x_col, ylabel=y_col)\n",
        "  plt.show()"
      ],
      "execution_count": 29,
      "outputs": []
    },
    {
      "cell_type": "markdown",
      "metadata": {
        "id": "Y8jZJZd6402C"
      },
      "source": [
        "# 0.- Transformacion y limpieza"
      ]
    },
    {
      "cell_type": "code",
      "metadata": {
        "id": "I6z4phibQEu_",
        "colab": {
          "base_uri": "https://localhost:8080/"
        },
        "outputId": "5a1d3994-2a09-4972-f77d-ad0aefb33191"
      },
      "source": [
        "data.info()"
      ],
      "execution_count": 8,
      "outputs": [
        {
          "output_type": "stream",
          "text": [
            "<class 'pandas.core.frame.DataFrame'>\n",
            "RangeIndex: 3031 entries, 0 to 3030\n",
            "Data columns (total 29 columns):\n",
            " #   Column                           Non-Null Count  Dtype  \n",
            "---  ------                           --------------  -----  \n",
            " 0   Year                             3031 non-null   int64  \n",
            " 1   Year & month                     3031 non-null   object \n",
            " 2   Campaign ID                      3031 non-null   int64  \n",
            " 3   Campaign name                    3031 non-null   object \n",
            " 4   Campaign objective               3031 non-null   object \n",
            " 5   Ad set ID                        3031 non-null   int64  \n",
            " 6   Ad set name                      3031 non-null   object \n",
            " 7   Ad ID                            3031 non-null   int64  \n",
            " 8   Ad name                          3031 non-null   object \n",
            " 9   Promoted post type               3031 non-null   object \n",
            " 10  Promoted post created date       3031 non-null   int64  \n",
            " 11  Promoted post description        2622 non-null   object \n",
            " 12  Promoted post message            3031 non-null   object \n",
            " 13  Promoted post caption            3031 non-null   object \n",
            " 14  Ad set start time                3031 non-null   int64  \n",
            " 15  Ad set end time                  16 non-null     float64\n",
            " 16  Ad set targeting                 3031 non-null   object \n",
            " 17  Targeting minimum age            3031 non-null   int64  \n",
            " 18  Targeting maximum age            3031 non-null   int64  \n",
            " 19  Age                              3031 non-null   object \n",
            " 20  Gender                           3031 non-null   object \n",
            " 21  Cost                             3031 non-null   float64\n",
            " 22  Impressions                      3031 non-null   int64  \n",
            " 23  Reach                            3031 non-null   int64  \n",
            " 24  Frequency                        2958 non-null   float64\n",
            " 25  Link clicks                      3031 non-null   int64  \n",
            " 26  Unique leads                     3031 non-null   int64  \n",
            " 27  CPM (cost per 1000 impressions)  3023 non-null   float64\n",
            " 28  Cost per on-Facebook lead        534 non-null    float64\n",
            "dtypes: float64(5), int64(12), object(12)\n",
            "memory usage: 686.8+ KB\n"
          ],
          "name": "stdout"
        }
      ]
    },
    {
      "cell_type": "markdown",
      "metadata": {
        "id": "wkYIBNp3-hnT"
      },
      "source": [
        "Eliminar NA"
      ]
    },
    {
      "cell_type": "code",
      "metadata": {
        "colab": {
          "base_uri": "https://localhost:8080/",
          "height": 615
        },
        "id": "TrY1V2a8arpp",
        "outputId": "e6a6b8ac-b726-4563-9434-fdededf2844b"
      },
      "source": [
        "filter1 = data.Year == 2021  \n",
        "filter2 = data.Age != 'unknown'\n",
        "filter3 = data.Gender != 'unknown'\n",
        "filter4 = data[\"Campaign objective\"] == \"LEAD_GENERATION\"\n",
        "\n",
        "##filter3 = df_inicial.Month.isin([4,5,6,7])  \n",
        "data = data[  filter1 & filter2 & filter3 & filter4 ]\n",
        "data.head(5)"
      ],
      "execution_count": 9,
      "outputs": [
        {
          "output_type": "execute_result",
          "data": {
            "text/html": [
              "<div>\n",
              "<style scoped>\n",
              "    .dataframe tbody tr th:only-of-type {\n",
              "        vertical-align: middle;\n",
              "    }\n",
              "\n",
              "    .dataframe tbody tr th {\n",
              "        vertical-align: top;\n",
              "    }\n",
              "\n",
              "    .dataframe thead th {\n",
              "        text-align: right;\n",
              "    }\n",
              "</style>\n",
              "<table border=\"1\" class=\"dataframe\">\n",
              "  <thead>\n",
              "    <tr style=\"text-align: right;\">\n",
              "      <th></th>\n",
              "      <th>Year</th>\n",
              "      <th>Year &amp; month</th>\n",
              "      <th>Campaign ID</th>\n",
              "      <th>Campaign name</th>\n",
              "      <th>Campaign objective</th>\n",
              "      <th>Ad set ID</th>\n",
              "      <th>Ad set name</th>\n",
              "      <th>Ad ID</th>\n",
              "      <th>Ad name</th>\n",
              "      <th>Promoted post type</th>\n",
              "      <th>Promoted post created date</th>\n",
              "      <th>Promoted post description</th>\n",
              "      <th>Promoted post message</th>\n",
              "      <th>Promoted post caption</th>\n",
              "      <th>Ad set start time</th>\n",
              "      <th>Ad set end time</th>\n",
              "      <th>Ad set targeting</th>\n",
              "      <th>Targeting minimum age</th>\n",
              "      <th>Targeting maximum age</th>\n",
              "      <th>Age</th>\n",
              "      <th>Gender</th>\n",
              "      <th>Cost</th>\n",
              "      <th>Impressions</th>\n",
              "      <th>Reach</th>\n",
              "      <th>Frequency</th>\n",
              "      <th>Link clicks</th>\n",
              "      <th>Unique leads</th>\n",
              "      <th>CPM (cost per 1000 impressions)</th>\n",
              "      <th>Cost per on-Facebook lead</th>\n",
              "    </tr>\n",
              "  </thead>\n",
              "  <tbody>\n",
              "    <tr>\n",
              "      <th>0</th>\n",
              "      <td>2021</td>\n",
              "      <td>2021|01</td>\n",
              "      <td>23845909826600753</td>\n",
              "      <td>BASICA_ECUADOR_decisión_drive</td>\n",
              "      <td>LEAD_GENERATION</td>\n",
              "      <td>23845909823750753</td>\n",
              "      <td>intereses_drive - perfil alto</td>\n",
              "      <td>23845909825730753</td>\n",
              "      <td>anuncio_octubre_ubicacion_desde_celular_vr_1</td>\n",
              "      <td>link</td>\n",
              "      <td>44272</td>\n",
              "      <td>Beneficios CarSync®</td>\n",
              "      <td>Seguridad es poder recibir asistencia vial en ...</td>\n",
              "      <td>Mantén el control en todo momento</td>\n",
              "      <td>44118</td>\n",
              "      <td>NaN</td>\n",
              "      <td>{\"age_max\":44,\"age_min\":23,\"excluded_custom_au...</td>\n",
              "      <td>23</td>\n",
              "      <td>44</td>\n",
              "      <td>18-24</td>\n",
              "      <td>female</td>\n",
              "      <td>0.00</td>\n",
              "      <td>4</td>\n",
              "      <td>4</td>\n",
              "      <td>1.00</td>\n",
              "      <td>0</td>\n",
              "      <td>0</td>\n",
              "      <td>0.00</td>\n",
              "      <td>NaN</td>\n",
              "    </tr>\n",
              "    <tr>\n",
              "      <th>1</th>\n",
              "      <td>2021</td>\n",
              "      <td>2021|01</td>\n",
              "      <td>23845909826600753</td>\n",
              "      <td>BASICA_ECUADOR_decisión_drive</td>\n",
              "      <td>LEAD_GENERATION</td>\n",
              "      <td>23845909823750753</td>\n",
              "      <td>intereses_drive - perfil alto</td>\n",
              "      <td>23845909825730753</td>\n",
              "      <td>anuncio_octubre_ubicacion_desde_celular_vr_1</td>\n",
              "      <td>link</td>\n",
              "      <td>44272</td>\n",
              "      <td>Beneficios CarSync®</td>\n",
              "      <td>Seguridad es poder recibir asistencia vial en ...</td>\n",
              "      <td>Mantén el control en todo momento</td>\n",
              "      <td>44118</td>\n",
              "      <td>NaN</td>\n",
              "      <td>{\"age_max\":44,\"age_min\":23,\"excluded_custom_au...</td>\n",
              "      <td>23</td>\n",
              "      <td>44</td>\n",
              "      <td>18-24</td>\n",
              "      <td>male</td>\n",
              "      <td>0.10</td>\n",
              "      <td>69</td>\n",
              "      <td>56</td>\n",
              "      <td>1.23</td>\n",
              "      <td>0</td>\n",
              "      <td>0</td>\n",
              "      <td>1.45</td>\n",
              "      <td>NaN</td>\n",
              "    </tr>\n",
              "    <tr>\n",
              "      <th>2</th>\n",
              "      <td>2021</td>\n",
              "      <td>2021|01</td>\n",
              "      <td>23845909826600753</td>\n",
              "      <td>BASICA_ECUADOR_decisión_drive</td>\n",
              "      <td>LEAD_GENERATION</td>\n",
              "      <td>23845909823750753</td>\n",
              "      <td>intereses_drive - perfil alto</td>\n",
              "      <td>23845909825730753</td>\n",
              "      <td>anuncio_octubre_ubicacion_desde_celular_vr_1</td>\n",
              "      <td>link</td>\n",
              "      <td>44272</td>\n",
              "      <td>Beneficios CarSync®</td>\n",
              "      <td>Seguridad es poder recibir asistencia vial en ...</td>\n",
              "      <td>Mantén el control en todo momento</td>\n",
              "      <td>44118</td>\n",
              "      <td>NaN</td>\n",
              "      <td>{\"age_max\":44,\"age_min\":23,\"excluded_custom_au...</td>\n",
              "      <td>23</td>\n",
              "      <td>44</td>\n",
              "      <td>25-34</td>\n",
              "      <td>female</td>\n",
              "      <td>0.19</td>\n",
              "      <td>18</td>\n",
              "      <td>18</td>\n",
              "      <td>1.00</td>\n",
              "      <td>0</td>\n",
              "      <td>0</td>\n",
              "      <td>10.56</td>\n",
              "      <td>NaN</td>\n",
              "    </tr>\n",
              "    <tr>\n",
              "      <th>3</th>\n",
              "      <td>2021</td>\n",
              "      <td>2021|01</td>\n",
              "      <td>23845909826600753</td>\n",
              "      <td>BASICA_ECUADOR_decisión_drive</td>\n",
              "      <td>LEAD_GENERATION</td>\n",
              "      <td>23845909823750753</td>\n",
              "      <td>intereses_drive - perfil alto</td>\n",
              "      <td>23845909825730753</td>\n",
              "      <td>anuncio_octubre_ubicacion_desde_celular_vr_1</td>\n",
              "      <td>link</td>\n",
              "      <td>44272</td>\n",
              "      <td>Beneficios CarSync®</td>\n",
              "      <td>Seguridad es poder recibir asistencia vial en ...</td>\n",
              "      <td>Mantén el control en todo momento</td>\n",
              "      <td>44118</td>\n",
              "      <td>NaN</td>\n",
              "      <td>{\"age_max\":44,\"age_min\":23,\"excluded_custom_au...</td>\n",
              "      <td>23</td>\n",
              "      <td>44</td>\n",
              "      <td>25-34</td>\n",
              "      <td>male</td>\n",
              "      <td>0.32</td>\n",
              "      <td>226</td>\n",
              "      <td>193</td>\n",
              "      <td>1.17</td>\n",
              "      <td>3</td>\n",
              "      <td>1</td>\n",
              "      <td>1.42</td>\n",
              "      <td>0.32</td>\n",
              "    </tr>\n",
              "    <tr>\n",
              "      <th>4</th>\n",
              "      <td>2021</td>\n",
              "      <td>2021|01</td>\n",
              "      <td>23845909826600753</td>\n",
              "      <td>BASICA_ECUADOR_decisión_drive</td>\n",
              "      <td>LEAD_GENERATION</td>\n",
              "      <td>23845909823750753</td>\n",
              "      <td>intereses_drive - perfil alto</td>\n",
              "      <td>23845909825730753</td>\n",
              "      <td>anuncio_octubre_ubicacion_desde_celular_vr_1</td>\n",
              "      <td>link</td>\n",
              "      <td>44272</td>\n",
              "      <td>Beneficios CarSync®</td>\n",
              "      <td>Seguridad es poder recibir asistencia vial en ...</td>\n",
              "      <td>Mantén el control en todo momento</td>\n",
              "      <td>44118</td>\n",
              "      <td>NaN</td>\n",
              "      <td>{\"age_max\":44,\"age_min\":23,\"excluded_custom_au...</td>\n",
              "      <td>23</td>\n",
              "      <td>44</td>\n",
              "      <td>35-44</td>\n",
              "      <td>female</td>\n",
              "      <td>0.04</td>\n",
              "      <td>17</td>\n",
              "      <td>13</td>\n",
              "      <td>1.31</td>\n",
              "      <td>0</td>\n",
              "      <td>0</td>\n",
              "      <td>2.35</td>\n",
              "      <td>NaN</td>\n",
              "    </tr>\n",
              "  </tbody>\n",
              "</table>\n",
              "</div>"
            ],
            "text/plain": [
              "   Year  ... Cost per on-Facebook lead\n",
              "0  2021  ...                       NaN\n",
              "1  2021  ...                       NaN\n",
              "2  2021  ...                       NaN\n",
              "3  2021  ...                      0.32\n",
              "4  2021  ...                       NaN\n",
              "\n",
              "[5 rows x 29 columns]"
            ]
          },
          "metadata": {
            "tags": []
          },
          "execution_count": 9
        }
      ]
    },
    {
      "cell_type": "code",
      "metadata": {
        "id": "zlJS8oPWCcda"
      },
      "source": [
        "data=data.dropna(subset = [\"Cost per on-Facebook lead\"])\n",
        "data=data.dropna(subset = [\"Promoted post description\"])"
      ],
      "execution_count": 10,
      "outputs": []
    },
    {
      "cell_type": "code",
      "metadata": {
        "colab": {
          "base_uri": "https://localhost:8080/"
        },
        "id": "bymKO28H5Ocy",
        "outputId": "d3533dd7-1a5d-40e2-83ed-57da4ea4fcd6"
      },
      "source": [
        "missing_values_count = data.isnull().sum()\n",
        "missing_values_count[0:43]"
      ],
      "execution_count": 11,
      "outputs": [
        {
          "output_type": "execute_result",
          "data": {
            "text/plain": [
              "Year                                 0\n",
              "Year & month                         0\n",
              "Campaign ID                          0\n",
              "Campaign name                        0\n",
              "Campaign objective                   0\n",
              "Ad set ID                            0\n",
              "Ad set name                          0\n",
              "Ad ID                                0\n",
              "Ad name                              0\n",
              "Promoted post type                   0\n",
              "Promoted post created date           0\n",
              "Promoted post description            0\n",
              "Promoted post message                0\n",
              "Promoted post caption                0\n",
              "Ad set start time                    0\n",
              "Ad set end time                    472\n",
              "Ad set targeting                     0\n",
              "Targeting minimum age                0\n",
              "Targeting maximum age                0\n",
              "Age                                  0\n",
              "Gender                               0\n",
              "Cost                                 0\n",
              "Impressions                          0\n",
              "Reach                                0\n",
              "Frequency                            0\n",
              "Link clicks                          0\n",
              "Unique leads                         0\n",
              "CPM (cost per 1000 impressions)      0\n",
              "Cost per on-Facebook lead            0\n",
              "dtype: int64"
            ]
          },
          "metadata": {
            "tags": []
          },
          "execution_count": 11
        }
      ]
    },
    {
      "cell_type": "markdown",
      "metadata": {
        "id": "HCZ4MXYwC008"
      },
      "source": [
        "Etiquetado Manual "
      ]
    },
    {
      "cell_type": "code",
      "metadata": {
        "id": "Zi_-LGrUC2OT"
      },
      "source": [
        "data =data.dropna(subset=[\"Cost per on-Facebook lead\"])\n",
        "q1= np.percentile(data[\"Cost per on-Facebook lead\"], 25)  \n",
        "q2= np.percentile(data[\"Cost per on-Facebook lead\"], 50)\n",
        "q3= np.percentile(data[\"Cost per on-Facebook lead\"], 75) \n",
        "\n",
        "data['Clasificacion'] = \"Ninguno\"\n",
        "data['ClasificacionDes'] = 'Ninguno'\n",
        "data['Clasificacion'].loc[(data['Cost per on-Facebook lead']<= q1)] = 2  #\"Mejores\"\n",
        "data['Clasificacion'].loc[(data['Cost per on-Facebook lead']> q1 ) & (data['Cost per on-Facebook lead'] <= q3)] = 1 # \"Regulares\"\n",
        "data['Clasificacion'].loc[(data['Cost per on-Facebook lead']> q3 )] = 0 #\"Peores\"\n",
        "data['ClasificacionDes'].loc[(data['Cost per on-Facebook lead']<= q1)] = \"Mejores\"\n",
        "data['ClasificacionDes'].loc[(data['Cost per on-Facebook lead']> q1 ) & (data['Cost per on-Facebook lead'] <= q3)] = \"Regulares\"\n",
        "data['ClasificacionDes'].loc[(data['Cost per on-Facebook lead']> q3 )] = \"Peores\"\n",
        "\n",
        "data['Clasificacion']= data['Clasificacion'].astype('int')\n"
      ],
      "execution_count": 24,
      "outputs": []
    },
    {
      "cell_type": "markdown",
      "metadata": {
        "id": "lPLSzZ_tEdj1"
      },
      "source": [
        "**Caracteristicas o variables predictorass calculados**"
      ]
    },
    {
      "cell_type": "code",
      "metadata": {
        "id": "YisQB-RWEdBc"
      },
      "source": [
        "data['Descripcion'] = data['Promoted post description'] \n",
        "data['Message'] = data['Promoted post message'] \n",
        "data['Caption'] = data['Promoted post caption'] \n",
        "data['NumDescripcion'] = data.Descripcion.str.split().str.len()\n",
        "data['NumMessage'] = data.Message.str.split().str.len()\n",
        "data['NumCaption'] = data.Caption.str.split().str.len()"
      ],
      "execution_count": 13,
      "outputs": []
    },
    {
      "cell_type": "code",
      "metadata": {
        "id": "CVELBaOjw7zn"
      },
      "source": [
        "data['Rate'] = data['Unique leads']/data['Reach'] \n",
        "data['CTR'] = data['Link clicks']/data['Impressions'] "
      ],
      "execution_count": 14,
      "outputs": []
    },
    {
      "cell_type": "markdown",
      "metadata": {
        "id": "RtoLqp2BnQtf"
      },
      "source": [
        "**Creacion de variables categoricas del campo intereses y nivel educacion**"
      ]
    },
    {
      "cell_type": "code",
      "metadata": {
        "id": "9kiZ3mKdmSPB"
      },
      "source": [
        "import warnings\n",
        "warnings.filterwarnings('ignore')\n",
        "\n",
        "data['intereses'] = 'NO' \n",
        "data['education_statuses'] = 'NO'\n",
        "\n",
        "data['ComprasOnline'] = 'NO'\n",
        "data['Seguridad'] = 'NO'\n",
        "data['SeguridadAlarmas'] = 'NO'\n",
        "data['DispositivoInteligente'] = 'NO'\n",
        "data['DispositivosGPS'] = 'NO'\n",
        "data['SmartTechnologies'] = 'NO'\n",
        "data['TarjetasCredito'] = 'NO'\n",
        "data['Transporte'] = 'NO'\n",
        "ComprasOnline = ['Compras online']\n",
        "Seguridad = ['Seguridad', 'Security', 'Sistema de alarma']\n",
        "SeguridadAlarmas = ['Anti-theft system', 'Security alarm', 'Sistema de alarma']\n",
        "DispositivoInteligente = ['Dispositivo inteligente']\n",
        "DispositivosGPS = ['Dispositivos GPS','GPS Asistido','Conducción','Google Maps','Vehicle tracking system']\n",
        "SmartTechnologies = ['Smart Technologies']\n",
        "TarjetasCredito = ['Tarjetas de crédito']\n",
        "Transporte = ['Transporte']\n",
        "education_statuses = ['10']\n",
        "\n",
        "for i in data.index:\n",
        "\n",
        "  #if (i == 778):\n",
        "    campo_json = json.loads(data.loc[i]['Ad set targeting'])\n",
        "    #hay registros que no tienen en el json el flexible_spec\n",
        "    try:\n",
        "        lista_intereses = pd.get_dummies(pd.json_normalize( campo_json ,record_path=['flexible_spec','interests'],errors='ignore').rename(columns={'name': 'interes'})['interes']).columns.values.tolist()\n",
        "        #lista_educacion = pd.json_normalize(cuack_json,record_path=['flexible_spec'],errors='ignore')['education_statuses'][0]\n",
        "        cadena_interes = '| ' + ''.join([  str( item + ' | ') for item in lista_intereses ])\n",
        "        #cadena_educacion = '| ' + ''.join([  str( str(item) + ' | ') for item in lista_educacion ])\n",
        "        data['intereses'][data.index == i] = cadena_interes\n",
        "\n",
        "        if any(x in cadena_interes  for x in ComprasOnline) :\n",
        "             data['ComprasOnline'][data.index == i] = 'SI'\n",
        "        else :\n",
        "             data['ComprasOnline'][data.index == i] = 'NO'\n",
        "\n",
        "        if any(x in cadena_interes for x in Seguridad ) :\n",
        "             data['Seguridad'][data.index == i] = 'SI'\n",
        "        else :\n",
        "             data['Seguridad'][data.index == i] = 'NO'\n",
        "\n",
        "        if any(x in cadena_interes  for x in SeguridadAlarmas) :\n",
        "             data['SeguridadAlarmas'][data.index == i] = 'SI'\n",
        "        else :\n",
        "             data['SeguridadAlarmas'][data.index == i] = 'NO'\n",
        "\n",
        "        if any(x in cadena_interes  for x in DispositivoInteligente ) :\n",
        "             data['DispositivoInteligente'][data.index == i] = 'SI'\n",
        "        else :\n",
        "             data['DispositivoInteligente'][data.index == i] = 'NO'\n",
        "\n",
        "        if any(x in cadena_interes  for x in DispositivosGPS ) :\n",
        "             data['DispositivosGPS'][data.index == i] = 'SI'\n",
        "        else :\n",
        "             data['DispositivosGPS'][data.index == i] = 'NO'\n",
        "\n",
        "        if any(x in cadena_interes  for x in SmartTechnologies ) :\n",
        "             data['SmartTechnologies'][data.index == i] = 'SI'\n",
        "        else :\n",
        "             data['SmartTechnologies'][data.index == i] = 'NO'\n",
        "\n",
        "        if any(x in cadena_interes  for x in TarjetasCredito ) :\n",
        "             data['TarjetasCredito'][data.index == i] = 'SI'\n",
        "        else :\n",
        "             data['TarjetasCredito'][data.index == i] = 'NO'\n",
        "\n",
        "        if any(x in cadena_interes  for x in Transporte ) :\n",
        "             data['Transporte'][data.index == i] = 'SI'\n",
        "        else :\n",
        "             data['Transporte'][data.index == i] = 'NO'\n",
        "\n",
        "        #if any(x in education_statuses for x in cadena_educacion) :\n",
        "        #     data['education_statuses'][data.index == i] = 'SI'\n",
        "        #else :\n",
        "        #     data['education_statuses'][data.index == i] = 'NO'\n",
        "\n",
        "\n",
        "    except:\n",
        "        data.loc[i]['intereses'] = 'NO' \n",
        "        #data.loc[i]['education_statuses'] = 'NO' \n",
        "        data.loc[i]['ComprasOnline'] = 'NO'\n",
        "        data.loc[i]['Seguridad'] = 'NO'\n",
        "        data.loc[i]['SeguridadAlarmas'] = 'NO'\n",
        "        data.loc[i]['DispositivoInteligente'] = 'NO'\n",
        "        data.loc[i]['DispositivosGPS'] = 'NO'\n",
        "        data.loc[i]['SmartTechnologies'] = 'NO'\n",
        "        data.loc[i]['TarjetasCredito'] = 'NO'\n",
        "        data.loc[i]['Transporte'] = 'NO'\n",
        "        \n"
      ],
      "execution_count": 18,
      "outputs": []
    },
    {
      "cell_type": "code",
      "metadata": {
        "colab": {
          "base_uri": "https://localhost:8080/",
          "height": 335
        },
        "id": "ee6d5Kh9Cyh_",
        "outputId": "93bd7a7f-e969-4f9e-8330-3695c5e8cae3"
      },
      "source": [
        "data.head(2)"
      ],
      "execution_count": 19,
      "outputs": [
        {
          "output_type": "execute_result",
          "data": {
            "text/html": [
              "<div>\n",
              "<style scoped>\n",
              "    .dataframe tbody tr th:only-of-type {\n",
              "        vertical-align: middle;\n",
              "    }\n",
              "\n",
              "    .dataframe tbody tr th {\n",
              "        vertical-align: top;\n",
              "    }\n",
              "\n",
              "    .dataframe thead th {\n",
              "        text-align: right;\n",
              "    }\n",
              "</style>\n",
              "<table border=\"1\" class=\"dataframe\">\n",
              "  <thead>\n",
              "    <tr style=\"text-align: right;\">\n",
              "      <th></th>\n",
              "      <th>Year</th>\n",
              "      <th>Year &amp; month</th>\n",
              "      <th>Campaign ID</th>\n",
              "      <th>Campaign name</th>\n",
              "      <th>Campaign objective</th>\n",
              "      <th>Ad set ID</th>\n",
              "      <th>Ad set name</th>\n",
              "      <th>Ad ID</th>\n",
              "      <th>Ad name</th>\n",
              "      <th>Promoted post type</th>\n",
              "      <th>Promoted post created date</th>\n",
              "      <th>Promoted post description</th>\n",
              "      <th>Promoted post message</th>\n",
              "      <th>Promoted post caption</th>\n",
              "      <th>Ad set start time</th>\n",
              "      <th>Ad set end time</th>\n",
              "      <th>Ad set targeting</th>\n",
              "      <th>Targeting minimum age</th>\n",
              "      <th>Targeting maximum age</th>\n",
              "      <th>Age</th>\n",
              "      <th>Gender</th>\n",
              "      <th>Cost</th>\n",
              "      <th>Impressions</th>\n",
              "      <th>Reach</th>\n",
              "      <th>Frequency</th>\n",
              "      <th>Link clicks</th>\n",
              "      <th>Unique leads</th>\n",
              "      <th>CPM (cost per 1000 impressions)</th>\n",
              "      <th>Cost per on-Facebook lead</th>\n",
              "      <th>Clasificacion</th>\n",
              "      <th>Descripcion</th>\n",
              "      <th>Message</th>\n",
              "      <th>Caption</th>\n",
              "      <th>NumDescripcion</th>\n",
              "      <th>NumMessage</th>\n",
              "      <th>NumCaption</th>\n",
              "      <th>Rate</th>\n",
              "      <th>CTR</th>\n",
              "      <th>intereses</th>\n",
              "      <th>education_statuses</th>\n",
              "      <th>ComprasOnline</th>\n",
              "      <th>Seguridad</th>\n",
              "      <th>SeguridadAlarmas</th>\n",
              "      <th>DispositivoInteligente</th>\n",
              "      <th>DispositivosGPS</th>\n",
              "      <th>SmartTechnologies</th>\n",
              "      <th>TarjetasCredito</th>\n",
              "      <th>Transporte</th>\n",
              "    </tr>\n",
              "  </thead>\n",
              "  <tbody>\n",
              "    <tr>\n",
              "      <th>3</th>\n",
              "      <td>2021</td>\n",
              "      <td>2021|01</td>\n",
              "      <td>23845909826600753</td>\n",
              "      <td>BASICA_ECUADOR_decisión_drive</td>\n",
              "      <td>LEAD_GENERATION</td>\n",
              "      <td>23845909823750753</td>\n",
              "      <td>intereses_drive - perfil alto</td>\n",
              "      <td>23845909825730753</td>\n",
              "      <td>anuncio_octubre_ubicacion_desde_celular_vr_1</td>\n",
              "      <td>link</td>\n",
              "      <td>44272</td>\n",
              "      <td>Beneficios CarSync®</td>\n",
              "      <td>Seguridad es poder recibir asistencia vial en ...</td>\n",
              "      <td>Mantén el control en todo momento</td>\n",
              "      <td>44118</td>\n",
              "      <td>NaN</td>\n",
              "      <td>{\"age_max\":44,\"age_min\":23,\"excluded_custom_au...</td>\n",
              "      <td>23</td>\n",
              "      <td>44</td>\n",
              "      <td>25-34</td>\n",
              "      <td>male</td>\n",
              "      <td>0.32</td>\n",
              "      <td>226</td>\n",
              "      <td>193</td>\n",
              "      <td>1.17</td>\n",
              "      <td>3</td>\n",
              "      <td>1</td>\n",
              "      <td>1.42</td>\n",
              "      <td>0.32</td>\n",
              "      <td>2</td>\n",
              "      <td>Beneficios CarSync®</td>\n",
              "      <td>Seguridad es poder recibir asistencia vial en ...</td>\n",
              "      <td>Mantén el control en todo momento</td>\n",
              "      <td>2</td>\n",
              "      <td>25</td>\n",
              "      <td>6</td>\n",
              "      <td>0.005181</td>\n",
              "      <td>0.013274</td>\n",
              "      <td>| Anti-theft system | Compras online | Conducc...</td>\n",
              "      <td>NO</td>\n",
              "      <td>SI</td>\n",
              "      <td>SI</td>\n",
              "      <td>SI</td>\n",
              "      <td>SI</td>\n",
              "      <td>SI</td>\n",
              "      <td>SI</td>\n",
              "      <td>SI</td>\n",
              "      <td>SI</td>\n",
              "    </tr>\n",
              "    <tr>\n",
              "      <th>13</th>\n",
              "      <td>2021</td>\n",
              "      <td>2021|01</td>\n",
              "      <td>23845909826600753</td>\n",
              "      <td>BASICA_ECUADOR_decisión_drive</td>\n",
              "      <td>LEAD_GENERATION</td>\n",
              "      <td>23845909823750753</td>\n",
              "      <td>intereses_drive - perfil alto</td>\n",
              "      <td>23845985004450753</td>\n",
              "      <td>anuncio_1_drive_halloween</td>\n",
              "      <td>link</td>\n",
              "      <td>44287</td>\n",
              "      <td>Regístrate aquí</td>\n",
              "      <td>¡No permitas que esto te pase! Por tan solo $ ...</td>\n",
              "      <td>CarSync® promo</td>\n",
              "      <td>44118</td>\n",
              "      <td>NaN</td>\n",
              "      <td>{\"age_max\":44,\"age_min\":23,\"excluded_custom_au...</td>\n",
              "      <td>23</td>\n",
              "      <td>44</td>\n",
              "      <td>18-24</td>\n",
              "      <td>male</td>\n",
              "      <td>4.60</td>\n",
              "      <td>4608</td>\n",
              "      <td>2525</td>\n",
              "      <td>1.82</td>\n",
              "      <td>14</td>\n",
              "      <td>3</td>\n",
              "      <td>1.00</td>\n",
              "      <td>1.53</td>\n",
              "      <td>1</td>\n",
              "      <td>Regístrate aquí</td>\n",
              "      <td>¡No permitas que esto te pase! Por tan solo $ ...</td>\n",
              "      <td>CarSync® promo</td>\n",
              "      <td>2</td>\n",
              "      <td>48</td>\n",
              "      <td>2</td>\n",
              "      <td>0.001188</td>\n",
              "      <td>0.003038</td>\n",
              "      <td>| Anti-theft system | Compras online | Conducc...</td>\n",
              "      <td>NO</td>\n",
              "      <td>SI</td>\n",
              "      <td>SI</td>\n",
              "      <td>SI</td>\n",
              "      <td>SI</td>\n",
              "      <td>SI</td>\n",
              "      <td>SI</td>\n",
              "      <td>SI</td>\n",
              "      <td>SI</td>\n",
              "    </tr>\n",
              "  </tbody>\n",
              "</table>\n",
              "</div>"
            ],
            "text/plain": [
              "    Year Year & month  ...  TarjetasCredito Transporte\n",
              "3   2021      2021|01  ...               SI         SI\n",
              "13  2021      2021|01  ...               SI         SI\n",
              "\n",
              "[2 rows x 48 columns]"
            ]
          },
          "metadata": {
            "tags": []
          },
          "execution_count": 19
        }
      ]
    },
    {
      "cell_type": "code",
      "metadata": {
        "id": "Tis4GG2hCyuw"
      },
      "source": [
        ""
      ],
      "execution_count": null,
      "outputs": []
    },
    {
      "cell_type": "markdown",
      "metadata": {
        "id": "8mumDxqN5SfX"
      },
      "source": [
        "# 1.-  AEDA"
      ]
    },
    {
      "cell_type": "code",
      "metadata": {
        "colab": {
          "base_uri": "https://localhost:8080/",
          "height": 368
        },
        "id": "6yLOdV-gvd9D",
        "outputId": "21e6d49b-eef1-4a15-8928-a9768a1a2d5c"
      },
      "source": [
        "data.describe()"
      ],
      "execution_count": 20,
      "outputs": [
        {
          "output_type": "execute_result",
          "data": {
            "text/html": [
              "<div>\n",
              "<style scoped>\n",
              "    .dataframe tbody tr th:only-of-type {\n",
              "        vertical-align: middle;\n",
              "    }\n",
              "\n",
              "    .dataframe tbody tr th {\n",
              "        vertical-align: top;\n",
              "    }\n",
              "\n",
              "    .dataframe thead th {\n",
              "        text-align: right;\n",
              "    }\n",
              "</style>\n",
              "<table border=\"1\" class=\"dataframe\">\n",
              "  <thead>\n",
              "    <tr style=\"text-align: right;\">\n",
              "      <th></th>\n",
              "      <th>Year</th>\n",
              "      <th>Campaign ID</th>\n",
              "      <th>Ad set ID</th>\n",
              "      <th>Ad ID</th>\n",
              "      <th>Promoted post created date</th>\n",
              "      <th>Ad set start time</th>\n",
              "      <th>Ad set end time</th>\n",
              "      <th>Targeting minimum age</th>\n",
              "      <th>Targeting maximum age</th>\n",
              "      <th>Cost</th>\n",
              "      <th>Impressions</th>\n",
              "      <th>Reach</th>\n",
              "      <th>Frequency</th>\n",
              "      <th>Link clicks</th>\n",
              "      <th>Unique leads</th>\n",
              "      <th>CPM (cost per 1000 impressions)</th>\n",
              "      <th>Cost per on-Facebook lead</th>\n",
              "      <th>Clasificacion</th>\n",
              "      <th>NumDescripcion</th>\n",
              "      <th>NumMessage</th>\n",
              "      <th>NumCaption</th>\n",
              "      <th>Rate</th>\n",
              "      <th>CTR</th>\n",
              "    </tr>\n",
              "  </thead>\n",
              "  <tbody>\n",
              "    <tr>\n",
              "      <th>count</th>\n",
              "      <td>476.0</td>\n",
              "      <td>4.760000e+02</td>\n",
              "      <td>4.760000e+02</td>\n",
              "      <td>4.760000e+02</td>\n",
              "      <td>476.000000</td>\n",
              "      <td>476.000000</td>\n",
              "      <td>4.0</td>\n",
              "      <td>476.000000</td>\n",
              "      <td>476.000000</td>\n",
              "      <td>476.000000</td>\n",
              "      <td>476.000000</td>\n",
              "      <td>476.000000</td>\n",
              "      <td>476.000000</td>\n",
              "      <td>476.000000</td>\n",
              "      <td>476.000000</td>\n",
              "      <td>476.000000</td>\n",
              "      <td>476.000000</td>\n",
              "      <td>476.000000</td>\n",
              "      <td>476.000000</td>\n",
              "      <td>476.000000</td>\n",
              "      <td>476.000000</td>\n",
              "      <td>476.000000</td>\n",
              "      <td>476.000000</td>\n",
              "    </tr>\n",
              "    <tr>\n",
              "      <th>mean</th>\n",
              "      <td>2021.0</td>\n",
              "      <td>2.384593e+16</td>\n",
              "      <td>2.384635e+16</td>\n",
              "      <td>2.384679e+16</td>\n",
              "      <td>44334.901261</td>\n",
              "      <td>44175.512605</td>\n",
              "      <td>44364.0</td>\n",
              "      <td>22.432773</td>\n",
              "      <td>56.138655</td>\n",
              "      <td>14.374370</td>\n",
              "      <td>7330.718487</td>\n",
              "      <td>4224.294118</td>\n",
              "      <td>1.541786</td>\n",
              "      <td>41.088235</td>\n",
              "      <td>5.735294</td>\n",
              "      <td>2.322668</td>\n",
              "      <td>2.383256</td>\n",
              "      <td>1.002101</td>\n",
              "      <td>6.792017</td>\n",
              "      <td>34.491597</td>\n",
              "      <td>5.676471</td>\n",
              "      <td>0.004501</td>\n",
              "      <td>0.009135</td>\n",
              "    </tr>\n",
              "    <tr>\n",
              "      <th>std</th>\n",
              "      <td>0.0</td>\n",
              "      <td>1.680774e+11</td>\n",
              "      <td>7.915021e+11</td>\n",
              "      <td>6.676882e+11</td>\n",
              "      <td>33.310228</td>\n",
              "      <td>103.190605</td>\n",
              "      <td>0.0</td>\n",
              "      <td>1.454466</td>\n",
              "      <td>9.925072</td>\n",
              "      <td>25.172324</td>\n",
              "      <td>13626.452709</td>\n",
              "      <td>7092.997162</td>\n",
              "      <td>0.432234</td>\n",
              "      <td>67.071655</td>\n",
              "      <td>9.044294</td>\n",
              "      <td>1.575707</td>\n",
              "      <td>1.769113</td>\n",
              "      <td>0.706359</td>\n",
              "      <td>3.097167</td>\n",
              "      <td>10.284067</td>\n",
              "      <td>2.326134</td>\n",
              "      <td>0.018485</td>\n",
              "      <td>0.015230</td>\n",
              "    </tr>\n",
              "    <tr>\n",
              "      <th>min</th>\n",
              "      <td>2021.0</td>\n",
              "      <td>2.384591e+16</td>\n",
              "      <td>2.384591e+16</td>\n",
              "      <td>2.384591e+16</td>\n",
              "      <td>44272.000000</td>\n",
              "      <td>44118.000000</td>\n",
              "      <td>44364.0</td>\n",
              "      <td>18.000000</td>\n",
              "      <td>44.000000</td>\n",
              "      <td>0.020000</td>\n",
              "      <td>4.000000</td>\n",
              "      <td>3.000000</td>\n",
              "      <td>1.000000</td>\n",
              "      <td>1.000000</td>\n",
              "      <td>1.000000</td>\n",
              "      <td>0.750000</td>\n",
              "      <td>0.020000</td>\n",
              "      <td>0.000000</td>\n",
              "      <td>1.000000</td>\n",
              "      <td>1.000000</td>\n",
              "      <td>1.000000</td>\n",
              "      <td>0.000232</td>\n",
              "      <td>0.001137</td>\n",
              "    </tr>\n",
              "    <tr>\n",
              "      <th>25%</th>\n",
              "      <td>2021.0</td>\n",
              "      <td>2.384591e+16</td>\n",
              "      <td>2.384591e+16</td>\n",
              "      <td>2.384615e+16</td>\n",
              "      <td>44327.000000</td>\n",
              "      <td>44118.000000</td>\n",
              "      <td>44364.0</td>\n",
              "      <td>21.000000</td>\n",
              "      <td>44.000000</td>\n",
              "      <td>1.867500</td>\n",
              "      <td>807.750000</td>\n",
              "      <td>568.000000</td>\n",
              "      <td>1.230000</td>\n",
              "      <td>5.000000</td>\n",
              "      <td>1.000000</td>\n",
              "      <td>1.530000</td>\n",
              "      <td>1.277500</td>\n",
              "      <td>1.000000</td>\n",
              "      <td>5.000000</td>\n",
              "      <td>30.000000</td>\n",
              "      <td>4.000000</td>\n",
              "      <td>0.000947</td>\n",
              "      <td>0.004347</td>\n",
              "    </tr>\n",
              "    <tr>\n",
              "      <th>50%</th>\n",
              "      <td>2021.0</td>\n",
              "      <td>2.384591e+16</td>\n",
              "      <td>2.384591e+16</td>\n",
              "      <td>2.384664e+16</td>\n",
              "      <td>44327.000000</td>\n",
              "      <td>44118.000000</td>\n",
              "      <td>44364.0</td>\n",
              "      <td>23.000000</td>\n",
              "      <td>65.000000</td>\n",
              "      <td>4.920000</td>\n",
              "      <td>2607.500000</td>\n",
              "      <td>1696.500000</td>\n",
              "      <td>1.440000</td>\n",
              "      <td>15.000000</td>\n",
              "      <td>2.000000</td>\n",
              "      <td>1.955000</td>\n",
              "      <td>2.025000</td>\n",
              "      <td>1.000000</td>\n",
              "      <td>7.000000</td>\n",
              "      <td>31.000000</td>\n",
              "      <td>6.000000</td>\n",
              "      <td>0.001529</td>\n",
              "      <td>0.005932</td>\n",
              "    </tr>\n",
              "    <tr>\n",
              "      <th>75%</th>\n",
              "      <td>2021.0</td>\n",
              "      <td>2.384591e+16</td>\n",
              "      <td>2.384603e+16</td>\n",
              "      <td>2.384748e+16</td>\n",
              "      <td>44362.000000</td>\n",
              "      <td>44138.000000</td>\n",
              "      <td>44364.0</td>\n",
              "      <td>23.000000</td>\n",
              "      <td>65.000000</td>\n",
              "      <td>15.382500</td>\n",
              "      <td>8261.750000</td>\n",
              "      <td>5047.500000</td>\n",
              "      <td>1.712500</td>\n",
              "      <td>44.000000</td>\n",
              "      <td>6.000000</td>\n",
              "      <td>2.732500</td>\n",
              "      <td>3.100000</td>\n",
              "      <td>1.250000</td>\n",
              "      <td>7.000000</td>\n",
              "      <td>40.000000</td>\n",
              "      <td>7.000000</td>\n",
              "      <td>0.003013</td>\n",
              "      <td>0.009790</td>\n",
              "    </tr>\n",
              "    <tr>\n",
              "      <th>max</th>\n",
              "      <td>2021.0</td>\n",
              "      <td>2.384775e+16</td>\n",
              "      <td>2.384805e+16</td>\n",
              "      <td>2.384808e+16</td>\n",
              "      <td>44399.000000</td>\n",
              "      <td>44396.000000</td>\n",
              "      <td>44364.0</td>\n",
              "      <td>25.000000</td>\n",
              "      <td>65.000000</td>\n",
              "      <td>214.980000</td>\n",
              "      <td>147944.000000</td>\n",
              "      <td>67398.000000</td>\n",
              "      <td>3.900000</td>\n",
              "      <td>516.000000</td>\n",
              "      <td>68.000000</td>\n",
              "      <td>27.500000</td>\n",
              "      <td>11.390000</td>\n",
              "      <td>2.000000</td>\n",
              "      <td>12.000000</td>\n",
              "      <td>56.000000</td>\n",
              "      <td>9.000000</td>\n",
              "      <td>0.333333</td>\n",
              "      <td>0.250000</td>\n",
              "    </tr>\n",
              "  </tbody>\n",
              "</table>\n",
              "</div>"
            ],
            "text/plain": [
              "         Year   Campaign ID     Ad set ID  ...  NumCaption        Rate         CTR\n",
              "count   476.0  4.760000e+02  4.760000e+02  ...  476.000000  476.000000  476.000000\n",
              "mean   2021.0  2.384593e+16  2.384635e+16  ...    5.676471    0.004501    0.009135\n",
              "std       0.0  1.680774e+11  7.915021e+11  ...    2.326134    0.018485    0.015230\n",
              "min    2021.0  2.384591e+16  2.384591e+16  ...    1.000000    0.000232    0.001137\n",
              "25%    2021.0  2.384591e+16  2.384591e+16  ...    4.000000    0.000947    0.004347\n",
              "50%    2021.0  2.384591e+16  2.384591e+16  ...    6.000000    0.001529    0.005932\n",
              "75%    2021.0  2.384591e+16  2.384603e+16  ...    7.000000    0.003013    0.009790\n",
              "max    2021.0  2.384775e+16  2.384805e+16  ...    9.000000    0.333333    0.250000\n",
              "\n",
              "[8 rows x 23 columns]"
            ]
          },
          "metadata": {
            "tags": []
          },
          "execution_count": 20
        }
      ]
    },
    {
      "cell_type": "code",
      "metadata": {
        "id": "yT4vGqjHjBZl",
        "colab": {
          "base_uri": "https://localhost:8080/",
          "height": 283
        },
        "outputId": "f64ba353-a766-4792-c0ef-133f06ea34e3"
      },
      "source": [
        "#sns.countplot(x=\"Clasificacion\", data=data, palette=\"bwr\")\n",
        "#plt.show()\n",
        "\n",
        "graficar_countplot(data,'ClasificacionDes','Conteo','CMRmap_r')"
      ],
      "execution_count": 26,
      "outputs": [
        {
          "output_type": "display_data",
          "data": {
            "image/png": "[encoded data removed]",
            "text/plain": [
              "<Figure size 432x288 with 1 Axes>"
            ]
          },
          "metadata": {
            "tags": [],
            "needs_background": "light"
          }
        }
      ]
    },
    {
      "cell_type": "code",
      "metadata": {
        "colab": {
          "base_uri": "https://localhost:8080/"
        },
        "id": "fiVDjAdkUWCf",
        "outputId": "9ef1bb07-2d10-4870-c1ef-ff9d19501803"
      },
      "source": [
        "pd.unique(data['Promoted post type'])"
      ],
      "execution_count": 32,
      "outputs": [
        {
          "output_type": "execute_result",
          "data": {
            "text/plain": [
              "array(['link'], dtype=object)"
            ]
          },
          "metadata": {
            "tags": []
          },
          "execution_count": 32
        }
      ]
    },
    {
      "cell_type": "code",
      "metadata": {
        "colab": {
          "base_uri": "https://localhost:8080/",
          "height": 335
        },
        "id": "HYIKjhGStQ8n",
        "outputId": "88a455f3-af82-4cc8-eb69-bd4ba0681375"
      },
      "source": [
        "pd.crosstab(data[\"Promoted post type\"],data[\"Clasificacion\"]).plot(kind=\"bar\",figsize=(20,6))\n",
        "plt.title('Tipo de publicación promocionada')\n",
        "plt.xlabel('Tipo')\n",
        "plt.ylabel('Frecuencia')\n",
        "plt.savefig('heartDiseaseAndAges.png')\n",
        "plt.show()"
      ],
      "execution_count": 31,
      "outputs": [
        {
          "output_type": "display_data",
          "data": {
            "image/png": "[encoded data removed]",
            "text/plain": [
              "<Figure size 1440x432 with 1 Axes>"
            ]
          },
          "metadata": {
            "tags": [],
            "needs_background": "light"
          }
        }
      ]
    },
    {
      "cell_type": "markdown",
      "metadata": {
        "id": "dGuXjeoz7CFM"
      },
      "source": [
        ""
      ]
    },
    {
      "cell_type": "code",
      "metadata": {
        "colab": {
          "base_uri": "https://localhost:8080/",
          "height": 391
        },
        "id": "2S1ve-xP6a0Q",
        "outputId": "ed5a4b25-4a6e-4102-fdf7-cf6b45cdd418"
      },
      "source": [
        "numerical_columns = [\"Impressions\",\"Link clicks\",\"Cost\",\"Cost per on-Facebook lead\",\"Rate\",\"Reach\",\"Frequency\",\"NumDescripcion\",\"NumMessage\",\"NumCaption\",\"Rate\",\"CTR\"]\n",
        "g=sns.heatmap(data[numerical_columns].corr(),annot=True ,fmt=\".2f\", cmap=\"coolwarm\")"
      ],
      "execution_count": null,
      "outputs": [
        {
          "output_type": "display_data",
          "data": {
            "image/png": "[encoded data removed]",
            "text/plain": [
              "<Figure size 432x288 with 2 Axes>"
            ]
          },
          "metadata": {
            "tags": [],
            "needs_background": "light"
          }
        }
      ]
    },
    {
      "cell_type": "code",
      "metadata": {
        "colab": {
          "base_uri": "https://localhost:8080/",
          "height": 737
        },
        "id": "XmhgS9WQLjB7",
        "outputId": "4dbda9d1-6fef-4cc3-eb1a-120e45d973e0"
      },
      "source": [
        "import seaborn\n",
        "\n",
        "df_corr = data[numerical_columns].corr() # Calculation of the correlation coefficients in pairs, with the default method:\n",
        "plt.figure(figsize=(15,10))\n",
        "seaborn.heatmap(df_corr, cmap=\"YlGnBu\") \n",
        "seaborn.set(font_scale=2,style='white')\n",
        "\n",
        "plt.title('Heatmap correlation')\n",
        "plt.show()"
      ],
      "execution_count": null,
      "outputs": [
        {
          "output_type": "display_data",
          "data": {
            "image/png": "[encoded data removed]",
            "text/plain": [
              "<Figure size 1080x720 with 2 Axes>"
            ]
          },
          "metadata": {
            "tags": [],
            "needs_background": "light"
          }
        }
      ]
    },
    {
      "cell_type": "code",
      "metadata": {
        "colab": {
          "base_uri": "https://localhost:8080/",
          "height": 657
        },
        "id": "nTYl-1-MMSrY",
        "outputId": "9d5910ab-c2cf-4d10-af08-9f149f9ddfef"
      },
      "source": [
        "plt.figure(figsize=(15,10))\n",
        "plt.scatter(data['Month'], data['Cost per on-Facebook lead']) # Display fraud amounts according to their time\n",
        "plt.title('Scratter plot amount fraud')\n",
        "plt.xlabel('Time')\n",
        "plt.ylabel('Costo por leads')\n",
        "plt.xlim([0,12])\n",
        "plt.ylim([0,12])\n",
        "plt.show()"
      ],
      "execution_count": null,
      "outputs": [
        {
          "output_type": "display_data",
          "data": {
            "image/png": "[encoded data removed]",
            "text/plain": [
              "<Figure size 1080x720 with 1 Axes>"
            ]
          },
          "metadata": {
            "tags": []
          }
        }
      ]
    },
    {
      "cell_type": "code",
      "metadata": {
        "id": "1k9l4IQkvsBZ"
      },
      "source": [
        "dibujar_box_plot(data, 'Cost per on-Facebook lead', 'Age', 'v')"
      ],
      "execution_count": null,
      "outputs": []
    },
    {
      "cell_type": "code",
      "metadata": {
        "id": "7Wk0Drv1BCFu"
      },
      "source": [
        "dibujar_box_plot(data, 'Cost per on-Facebook lead', 'Gender', 'v')"
      ],
      "execution_count": null,
      "outputs": []
    },
    {
      "cell_type": "markdown",
      "metadata": {
        "id": "SjBNDlNMfM4f"
      },
      "source": [
        "# 2.- Seleccion de variables, data entrenamiento y test\n"
      ]
    },
    {
      "cell_type": "code",
      "metadata": {
        "id": "bUmXN1vHuZRS"
      },
      "source": [
        "df= data[[\"Month\", \"NumDescripcion\",\"NumMessage\",\"NumCaption\",\"Targeting minimum age\",\"Targeting maximum age\",\"Age\",\"Gender\",\"Cost\",\"Impressions\",\"Reach\",\"Link clicks\",\"Unique leads\",\"Cost per on-Facebook lead\",\"Rate\",\"CTR\",\"Clasificacion\"]]"
      ],
      "execution_count": null,
      "outputs": []
    },
    {
      "cell_type": "markdown",
      "metadata": {
        "id": "76jZmSpWxY1V"
      },
      "source": [
        "Creating Dummy Variables¶\n"
      ]
    },
    {
      "cell_type": "code",
      "metadata": {
        "colab": {
          "base_uri": "https://localhost:8080/",
          "height": 268
        },
        "id": "oAVFLJSgxaDK",
        "outputId": "47cb17df-5e73-446f-b956-fd1da5548d37"
      },
      "source": [
        "a = pd.get_dummies(data['Gender'], prefix = \"type\")\n",
        "b = pd.get_dummies(data['Age'], prefix = \"type\")\n",
        "\n",
        "frames = [df,a,b]\n",
        "df = pd.concat(frames, axis = 1)\n",
        "df.head()\n",
        "df = df.drop(columns = ['Gender','Age'])\n",
        "df.head()"
      ],
      "execution_count": null,
      "outputs": [
        {
          "output_type": "execute_result",
          "data": {
            "text/html": [
              "<div>\n",
              "<style scoped>\n",
              "    .dataframe tbody tr th:only-of-type {\n",
              "        vertical-align: middle;\n",
              "    }\n",
              "\n",
              "    .dataframe tbody tr th {\n",
              "        vertical-align: top;\n",
              "    }\n",
              "\n",
              "    .dataframe thead th {\n",
              "        text-align: right;\n",
              "    }\n",
              "</style>\n",
              "<table border=\"1\" class=\"dataframe\">\n",
              "  <thead>\n",
              "    <tr style=\"text-align: right;\">\n",
              "      <th></th>\n",
              "      <th>Month</th>\n",
              "      <th>NumDescripcion</th>\n",
              "      <th>NumMessage</th>\n",
              "      <th>NumCaption</th>\n",
              "      <th>Targeting minimum age</th>\n",
              "      <th>Targeting maximum age</th>\n",
              "      <th>Cost</th>\n",
              "      <th>Impressions</th>\n",
              "      <th>Reach</th>\n",
              "      <th>Link clicks</th>\n",
              "      <th>Unique leads</th>\n",
              "      <th>Cost per on-Facebook lead</th>\n",
              "      <th>Rate</th>\n",
              "      <th>CTR</th>\n",
              "      <th>Clasificacion</th>\n",
              "      <th>type_female</th>\n",
              "      <th>type_male</th>\n",
              "      <th>type_18-24</th>\n",
              "      <th>type_25-34</th>\n",
              "      <th>type_35-44</th>\n",
              "      <th>type_45-54</th>\n",
              "      <th>type_55-64</th>\n",
              "      <th>type_65+</th>\n",
              "    </tr>\n",
              "  </thead>\n",
              "  <tbody>\n",
              "    <tr>\n",
              "      <th>3</th>\n",
              "      <td>1</td>\n",
              "      <td>2</td>\n",
              "      <td>25</td>\n",
              "      <td>6</td>\n",
              "      <td>23</td>\n",
              "      <td>44</td>\n",
              "      <td>0.32</td>\n",
              "      <td>226</td>\n",
              "      <td>193</td>\n",
              "      <td>3</td>\n",
              "      <td>1</td>\n",
              "      <td>0.32</td>\n",
              "      <td>0.005181</td>\n",
              "      <td>0.013274</td>\n",
              "      <td>2</td>\n",
              "      <td>0</td>\n",
              "      <td>1</td>\n",
              "      <td>0</td>\n",
              "      <td>1</td>\n",
              "      <td>0</td>\n",
              "      <td>0</td>\n",
              "      <td>0</td>\n",
              "      <td>0</td>\n",
              "    </tr>\n",
              "    <tr>\n",
              "      <th>13</th>\n",
              "      <td>1</td>\n",
              "      <td>2</td>\n",
              "      <td>48</td>\n",
              "      <td>2</td>\n",
              "      <td>23</td>\n",
              "      <td>44</td>\n",
              "      <td>4.60</td>\n",
              "      <td>4608</td>\n",
              "      <td>2525</td>\n",
              "      <td>14</td>\n",
              "      <td>3</td>\n",
              "      <td>1.53</td>\n",
              "      <td>0.001188</td>\n",
              "      <td>0.003038</td>\n",
              "      <td>1</td>\n",
              "      <td>0</td>\n",
              "      <td>1</td>\n",
              "      <td>1</td>\n",
              "      <td>0</td>\n",
              "      <td>0</td>\n",
              "      <td>0</td>\n",
              "      <td>0</td>\n",
              "      <td>0</td>\n",
              "    </tr>\n",
              "    <tr>\n",
              "      <th>15</th>\n",
              "      <td>1</td>\n",
              "      <td>2</td>\n",
              "      <td>48</td>\n",
              "      <td>2</td>\n",
              "      <td>23</td>\n",
              "      <td>44</td>\n",
              "      <td>3.67</td>\n",
              "      <td>1749</td>\n",
              "      <td>1172</td>\n",
              "      <td>4</td>\n",
              "      <td>2</td>\n",
              "      <td>1.84</td>\n",
              "      <td>0.001706</td>\n",
              "      <td>0.002287</td>\n",
              "      <td>1</td>\n",
              "      <td>1</td>\n",
              "      <td>0</td>\n",
              "      <td>0</td>\n",
              "      <td>1</td>\n",
              "      <td>0</td>\n",
              "      <td>0</td>\n",
              "      <td>0</td>\n",
              "      <td>0</td>\n",
              "    </tr>\n",
              "    <tr>\n",
              "      <th>16</th>\n",
              "      <td>1</td>\n",
              "      <td>2</td>\n",
              "      <td>48</td>\n",
              "      <td>2</td>\n",
              "      <td>23</td>\n",
              "      <td>44</td>\n",
              "      <td>21.01</td>\n",
              "      <td>15951</td>\n",
              "      <td>9362</td>\n",
              "      <td>73</td>\n",
              "      <td>8</td>\n",
              "      <td>2.63</td>\n",
              "      <td>0.000855</td>\n",
              "      <td>0.004577</td>\n",
              "      <td>1</td>\n",
              "      <td>0</td>\n",
              "      <td>1</td>\n",
              "      <td>0</td>\n",
              "      <td>1</td>\n",
              "      <td>0</td>\n",
              "      <td>0</td>\n",
              "      <td>0</td>\n",
              "      <td>0</td>\n",
              "    </tr>\n",
              "    <tr>\n",
              "      <th>18</th>\n",
              "      <td>1</td>\n",
              "      <td>2</td>\n",
              "      <td>48</td>\n",
              "      <td>2</td>\n",
              "      <td>23</td>\n",
              "      <td>44</td>\n",
              "      <td>1.94</td>\n",
              "      <td>795</td>\n",
              "      <td>516</td>\n",
              "      <td>10</td>\n",
              "      <td>3</td>\n",
              "      <td>0.65</td>\n",
              "      <td>0.005814</td>\n",
              "      <td>0.012579</td>\n",
              "      <td>2</td>\n",
              "      <td>1</td>\n",
              "      <td>0</td>\n",
              "      <td>0</td>\n",
              "      <td>0</td>\n",
              "      <td>1</td>\n",
              "      <td>0</td>\n",
              "      <td>0</td>\n",
              "      <td>0</td>\n",
              "    </tr>\n",
              "  </tbody>\n",
              "</table>\n",
              "</div>"
            ],
            "text/plain": [
              "    Month  NumDescripcion  NumMessage  ...  type_45-54  type_55-64  type_65+\n",
              "3       1               2          25  ...           0           0         0\n",
              "13      1               2          48  ...           0           0         0\n",
              "15      1               2          48  ...           0           0         0\n",
              "16      1               2          48  ...           0           0         0\n",
              "18      1               2          48  ...           0           0         0\n",
              "\n",
              "[5 rows x 23 columns]"
            ]
          },
          "metadata": {
            "tags": []
          },
          "execution_count": 19
        }
      ]
    },
    {
      "cell_type": "code",
      "metadata": {
        "colab": {
          "base_uri": "https://localhost:8080/"
        },
        "id": "0Mshb5ziiuNQ",
        "outputId": "2fbbdb88-f744-4b23-dccf-3ea172de5ab6"
      },
      "source": [
        "df.info()"
      ],
      "execution_count": null,
      "outputs": [
        {
          "output_type": "stream",
          "text": [
            "<class 'pandas.core.frame.DataFrame'>\n",
            "Int64Index: 476 entries, 3 to 3023\n",
            "Data columns (total 23 columns):\n",
            " #   Column                     Non-Null Count  Dtype  \n",
            "---  ------                     --------------  -----  \n",
            " 0   Month                      476 non-null    int64  \n",
            " 1   NumDescripcion             476 non-null    int64  \n",
            " 2   NumMessage                 476 non-null    int64  \n",
            " 3   NumCaption                 476 non-null    int64  \n",
            " 4   Targeting minimum age      476 non-null    int64  \n",
            " 5   Targeting maximum age      476 non-null    int64  \n",
            " 6   Cost                       476 non-null    float64\n",
            " 7   Impressions                476 non-null    int64  \n",
            " 8   Reach                      476 non-null    int64  \n",
            " 9   Link clicks                476 non-null    int64  \n",
            " 10  Unique leads               476 non-null    int64  \n",
            " 11  Cost per on-Facebook lead  476 non-null    float64\n",
            " 12  Rate                       476 non-null    float64\n",
            " 13  CTR                        476 non-null    float64\n",
            " 14  Clasificacion              476 non-null    int64  \n",
            " 15  type_female                476 non-null    uint8  \n",
            " 16  type_male                  476 non-null    uint8  \n",
            " 17  type_18-24                 476 non-null    uint8  \n",
            " 18  type_25-34                 476 non-null    uint8  \n",
            " 19  type_35-44                 476 non-null    uint8  \n",
            " 20  type_45-54                 476 non-null    uint8  \n",
            " 21  type_55-64                 476 non-null    uint8  \n",
            " 22  type_65+                   476 non-null    uint8  \n",
            "dtypes: float64(4), int64(11), uint8(8)\n",
            "memory usage: 83.2 KB\n"
          ],
          "name": "stdout"
        }
      ]
    },
    {
      "cell_type": "markdown",
      "metadata": {
        "id": "WcDDAlTnyjQK"
      },
      "source": [
        "Definicion de las variables "
      ]
    },
    {
      "cell_type": "code",
      "metadata": {
        "id": "tqHgzhyIyoAV"
      },
      "source": [
        "y = df.Clasificacion.values\n",
        "x_data = df.drop(['Clasificacion'], axis = 1)"
      ],
      "execution_count": null,
      "outputs": []
    },
    {
      "cell_type": "markdown",
      "metadata": {
        "id": "87hDATlpyVLw"
      },
      "source": [
        "Normalizacion de la data "
      ]
    },
    {
      "cell_type": "code",
      "metadata": {
        "colab": {
          "base_uri": "https://localhost:8080/",
          "height": 477
        },
        "id": "kY2mLaavyZ1y",
        "outputId": "3eaaa394-52e4-41d4-bfc7-5575968d38a2"
      },
      "source": [
        "# Normalize\n",
        "x = (x_data - np.min(x_data)) / (np.max(x_data) - np.min(x_data)).values\n",
        "x\n"
      ],
      "execution_count": null,
      "outputs": [
        {
          "output_type": "execute_result",
          "data": {
            "text/html": [
              "<div>\n",
              "<style scoped>\n",
              "    .dataframe tbody tr th:only-of-type {\n",
              "        vertical-align: middle;\n",
              "    }\n",
              "\n",
              "    .dataframe tbody tr th {\n",
              "        vertical-align: top;\n",
              "    }\n",
              "\n",
              "    .dataframe thead th {\n",
              "        text-align: right;\n",
              "    }\n",
              "</style>\n",
              "<table border=\"1\" class=\"dataframe\">\n",
              "  <thead>\n",
              "    <tr style=\"text-align: right;\">\n",
              "      <th></th>\n",
              "      <th>Month</th>\n",
              "      <th>NumDescripcion</th>\n",
              "      <th>NumMessage</th>\n",
              "      <th>NumCaption</th>\n",
              "      <th>Targeting minimum age</th>\n",
              "      <th>Targeting maximum age</th>\n",
              "      <th>Cost</th>\n",
              "      <th>Impressions</th>\n",
              "      <th>Reach</th>\n",
              "      <th>Link clicks</th>\n",
              "      <th>Unique leads</th>\n",
              "      <th>Cost per on-Facebook lead</th>\n",
              "      <th>Rate</th>\n",
              "      <th>CTR</th>\n",
              "      <th>type_female</th>\n",
              "      <th>type_male</th>\n",
              "      <th>type_18-24</th>\n",
              "      <th>type_25-34</th>\n",
              "      <th>type_35-44</th>\n",
              "      <th>type_45-54</th>\n",
              "      <th>type_55-64</th>\n",
              "      <th>type_65+</th>\n",
              "    </tr>\n",
              "  </thead>\n",
              "  <tbody>\n",
              "    <tr>\n",
              "      <th>3</th>\n",
              "      <td>0.0</td>\n",
              "      <td>0.090909</td>\n",
              "      <td>0.436364</td>\n",
              "      <td>0.625</td>\n",
              "      <td>0.714286</td>\n",
              "      <td>0.0</td>\n",
              "      <td>0.001396</td>\n",
              "      <td>0.001501</td>\n",
              "      <td>0.002819</td>\n",
              "      <td>0.003883</td>\n",
              "      <td>0.000000</td>\n",
              "      <td>0.026385</td>\n",
              "      <td>0.014858</td>\n",
              "      <td>0.048770</td>\n",
              "      <td>0.0</td>\n",
              "      <td>1.0</td>\n",
              "      <td>0.0</td>\n",
              "      <td>1.0</td>\n",
              "      <td>0.0</td>\n",
              "      <td>0.0</td>\n",
              "      <td>0.0</td>\n",
              "      <td>0.0</td>\n",
              "    </tr>\n",
              "    <tr>\n",
              "      <th>13</th>\n",
              "      <td>0.0</td>\n",
              "      <td>0.090909</td>\n",
              "      <td>0.854545</td>\n",
              "      <td>0.125</td>\n",
              "      <td>0.714286</td>\n",
              "      <td>0.0</td>\n",
              "      <td>0.021306</td>\n",
              "      <td>0.031121</td>\n",
              "      <td>0.037421</td>\n",
              "      <td>0.025243</td>\n",
              "      <td>0.029851</td>\n",
              "      <td>0.132806</td>\n",
              "      <td>0.002869</td>\n",
              "      <td>0.007639</td>\n",
              "      <td>0.0</td>\n",
              "      <td>1.0</td>\n",
              "      <td>1.0</td>\n",
              "      <td>0.0</td>\n",
              "      <td>0.0</td>\n",
              "      <td>0.0</td>\n",
              "      <td>0.0</td>\n",
              "      <td>0.0</td>\n",
              "    </tr>\n",
              "    <tr>\n",
              "      <th>15</th>\n",
              "      <td>0.0</td>\n",
              "      <td>0.090909</td>\n",
              "      <td>0.854545</td>\n",
              "      <td>0.125</td>\n",
              "      <td>0.714286</td>\n",
              "      <td>0.0</td>\n",
              "      <td>0.016980</td>\n",
              "      <td>0.011795</td>\n",
              "      <td>0.017346</td>\n",
              "      <td>0.005825</td>\n",
              "      <td>0.014925</td>\n",
              "      <td>0.160070</td>\n",
              "      <td>0.004426</td>\n",
              "      <td>0.004620</td>\n",
              "      <td>1.0</td>\n",
              "      <td>0.0</td>\n",
              "      <td>0.0</td>\n",
              "      <td>1.0</td>\n",
              "      <td>0.0</td>\n",
              "      <td>0.0</td>\n",
              "      <td>0.0</td>\n",
              "      <td>0.0</td>\n",
              "    </tr>\n",
              "    <tr>\n",
              "      <th>16</th>\n",
              "      <td>0.0</td>\n",
              "      <td>0.090909</td>\n",
              "      <td>0.854545</td>\n",
              "      <td>0.125</td>\n",
              "      <td>0.714286</td>\n",
              "      <td>0.0</td>\n",
              "      <td>0.097646</td>\n",
              "      <td>0.107794</td>\n",
              "      <td>0.138868</td>\n",
              "      <td>0.139806</td>\n",
              "      <td>0.104478</td>\n",
              "      <td>0.229551</td>\n",
              "      <td>0.001868</td>\n",
              "      <td>0.013820</td>\n",
              "      <td>0.0</td>\n",
              "      <td>1.0</td>\n",
              "      <td>0.0</td>\n",
              "      <td>1.0</td>\n",
              "      <td>0.0</td>\n",
              "      <td>0.0</td>\n",
              "      <td>0.0</td>\n",
              "      <td>0.0</td>\n",
              "    </tr>\n",
              "    <tr>\n",
              "      <th>18</th>\n",
              "      <td>0.0</td>\n",
              "      <td>0.090909</td>\n",
              "      <td>0.854545</td>\n",
              "      <td>0.125</td>\n",
              "      <td>0.714286</td>\n",
              "      <td>0.0</td>\n",
              "      <td>0.008932</td>\n",
              "      <td>0.005347</td>\n",
              "      <td>0.007612</td>\n",
              "      <td>0.017476</td>\n",
              "      <td>0.029851</td>\n",
              "      <td>0.055409</td>\n",
              "      <td>0.016757</td>\n",
              "      <td>0.045975</td>\n",
              "      <td>1.0</td>\n",
              "      <td>0.0</td>\n",
              "      <td>0.0</td>\n",
              "      <td>0.0</td>\n",
              "      <td>1.0</td>\n",
              "      <td>0.0</td>\n",
              "      <td>0.0</td>\n",
              "      <td>0.0</td>\n",
              "    </tr>\n",
              "    <tr>\n",
              "      <th>...</th>\n",
              "      <td>...</td>\n",
              "      <td>...</td>\n",
              "      <td>...</td>\n",
              "      <td>...</td>\n",
              "      <td>...</td>\n",
              "      <td>...</td>\n",
              "      <td>...</td>\n",
              "      <td>...</td>\n",
              "      <td>...</td>\n",
              "      <td>...</td>\n",
              "      <td>...</td>\n",
              "      <td>...</td>\n",
              "      <td>...</td>\n",
              "      <td>...</td>\n",
              "      <td>...</td>\n",
              "      <td>...</td>\n",
              "      <td>...</td>\n",
              "      <td>...</td>\n",
              "      <td>...</td>\n",
              "      <td>...</td>\n",
              "      <td>...</td>\n",
              "      <td>...</td>\n",
              "    </tr>\n",
              "    <tr>\n",
              "      <th>2962</th>\n",
              "      <td>1.0</td>\n",
              "      <td>0.545455</td>\n",
              "      <td>0.545455</td>\n",
              "      <td>1.000</td>\n",
              "      <td>1.000000</td>\n",
              "      <td>1.0</td>\n",
              "      <td>0.048055</td>\n",
              "      <td>0.046843</td>\n",
              "      <td>0.082736</td>\n",
              "      <td>0.046602</td>\n",
              "      <td>0.029851</td>\n",
              "      <td>0.301671</td>\n",
              "      <td>0.000917</td>\n",
              "      <td>0.009918</td>\n",
              "      <td>0.0</td>\n",
              "      <td>1.0</td>\n",
              "      <td>0.0</td>\n",
              "      <td>0.0</td>\n",
              "      <td>1.0</td>\n",
              "      <td>0.0</td>\n",
              "      <td>0.0</td>\n",
              "      <td>0.0</td>\n",
              "    </tr>\n",
              "    <tr>\n",
              "      <th>2965</th>\n",
              "      <td>1.0</td>\n",
              "      <td>0.545455</td>\n",
              "      <td>0.545455</td>\n",
              "      <td>1.000</td>\n",
              "      <td>1.000000</td>\n",
              "      <td>1.0</td>\n",
              "      <td>0.022051</td>\n",
              "      <td>0.018933</td>\n",
              "      <td>0.035285</td>\n",
              "      <td>0.031068</td>\n",
              "      <td>0.014925</td>\n",
              "      <td>0.207564</td>\n",
              "      <td>0.001824</td>\n",
              "      <td>0.019784</td>\n",
              "      <td>0.0</td>\n",
              "      <td>1.0</td>\n",
              "      <td>0.0</td>\n",
              "      <td>0.0</td>\n",
              "      <td>0.0</td>\n",
              "      <td>1.0</td>\n",
              "      <td>0.0</td>\n",
              "      <td>0.0</td>\n",
              "    </tr>\n",
              "    <tr>\n",
              "      <th>2968</th>\n",
              "      <td>1.0</td>\n",
              "      <td>0.545455</td>\n",
              "      <td>0.545455</td>\n",
              "      <td>1.000</td>\n",
              "      <td>1.000000</td>\n",
              "      <td>1.0</td>\n",
              "      <td>0.014561</td>\n",
              "      <td>0.009903</td>\n",
              "      <td>0.017301</td>\n",
              "      <td>0.029126</td>\n",
              "      <td>0.014925</td>\n",
              "      <td>0.137203</td>\n",
              "      <td>0.004439</td>\n",
              "      <td>0.039196</td>\n",
              "      <td>0.0</td>\n",
              "      <td>1.0</td>\n",
              "      <td>0.0</td>\n",
              "      <td>0.0</td>\n",
              "      <td>0.0</td>\n",
              "      <td>0.0</td>\n",
              "      <td>1.0</td>\n",
              "      <td>0.0</td>\n",
              "    </tr>\n",
              "    <tr>\n",
              "      <th>3019</th>\n",
              "      <td>1.0</td>\n",
              "      <td>0.181818</td>\n",
              "      <td>0.745455</td>\n",
              "      <td>0.375</td>\n",
              "      <td>1.000000</td>\n",
              "      <td>1.0</td>\n",
              "      <td>0.000419</td>\n",
              "      <td>0.000466</td>\n",
              "      <td>0.000905</td>\n",
              "      <td>0.000000</td>\n",
              "      <td>0.000000</td>\n",
              "      <td>0.007916</td>\n",
              "      <td>0.046210</td>\n",
              "      <td>0.050475</td>\n",
              "      <td>1.0</td>\n",
              "      <td>0.0</td>\n",
              "      <td>0.0</td>\n",
              "      <td>1.0</td>\n",
              "      <td>0.0</td>\n",
              "      <td>0.0</td>\n",
              "      <td>0.0</td>\n",
              "      <td>0.0</td>\n",
              "    </tr>\n",
              "    <tr>\n",
              "      <th>3023</th>\n",
              "      <td>1.0</td>\n",
              "      <td>0.181818</td>\n",
              "      <td>0.745455</td>\n",
              "      <td>0.375</td>\n",
              "      <td>1.000000</td>\n",
              "      <td>1.0</td>\n",
              "      <td>0.002186</td>\n",
              "      <td>0.002697</td>\n",
              "      <td>0.005253</td>\n",
              "      <td>0.003883</td>\n",
              "      <td>0.000000</td>\n",
              "      <td>0.041337</td>\n",
              "      <td>0.007712</td>\n",
              "      <td>0.025343</td>\n",
              "      <td>0.0</td>\n",
              "      <td>1.0</td>\n",
              "      <td>0.0</td>\n",
              "      <td>0.0</td>\n",
              "      <td>1.0</td>\n",
              "      <td>0.0</td>\n",
              "      <td>0.0</td>\n",
              "      <td>0.0</td>\n",
              "    </tr>\n",
              "  </tbody>\n",
              "</table>\n",
              "<p>476 rows × 22 columns</p>\n",
              "</div>"
            ],
            "text/plain": [
              "      Month  NumDescripcion  NumMessage  ...  type_45-54  type_55-64  type_65+\n",
              "3       0.0        0.090909    0.436364  ...         0.0         0.0       0.0\n",
              "13      0.0        0.090909    0.854545  ...         0.0         0.0       0.0\n",
              "15      0.0        0.090909    0.854545  ...         0.0         0.0       0.0\n",
              "16      0.0        0.090909    0.854545  ...         0.0         0.0       0.0\n",
              "18      0.0        0.090909    0.854545  ...         0.0         0.0       0.0\n",
              "...     ...             ...         ...  ...         ...         ...       ...\n",
              "2962    1.0        0.545455    0.545455  ...         0.0         0.0       0.0\n",
              "2965    1.0        0.545455    0.545455  ...         1.0         0.0       0.0\n",
              "2968    1.0        0.545455    0.545455  ...         0.0         1.0       0.0\n",
              "3019    1.0        0.181818    0.745455  ...         0.0         0.0       0.0\n",
              "3023    1.0        0.181818    0.745455  ...         0.0         0.0       0.0\n",
              "\n",
              "[476 rows x 22 columns]"
            ]
          },
          "metadata": {
            "tags": []
          },
          "execution_count": 22
        }
      ]
    },
    {
      "cell_type": "markdown",
      "metadata": {
        "id": "HfAUjLqR2GMi"
      },
      "source": [
        "Data entrenamiento y de test"
      ]
    },
    {
      "cell_type": "code",
      "metadata": {
        "id": "CxkfXCnTyiu6"
      },
      "source": [
        "x_train, x_test, y_train, y_test = train_test_split(x,y,test_size = 0.2,random_state=0)"
      ],
      "execution_count": null,
      "outputs": []
    },
    {
      "cell_type": "code",
      "metadata": {
        "id": "FXSFUCpwyUZE",
        "colab": {
          "base_uri": "https://localhost:8080/"
        },
        "outputId": "4bd62d3f-cbc2-4ce4-bda5-95fe974f6a47"
      },
      "source": [
        "x_train.info()"
      ],
      "execution_count": null,
      "outputs": [
        {
          "output_type": "stream",
          "text": [
            "<class 'pandas.core.frame.DataFrame'>\n",
            "Int64Index: 380 entries, 1351 to 1280\n",
            "Data columns (total 22 columns):\n",
            " #   Column                     Non-Null Count  Dtype  \n",
            "---  ------                     --------------  -----  \n",
            " 0   Month                      380 non-null    float64\n",
            " 1   NumDescripcion             380 non-null    float64\n",
            " 2   NumMessage                 380 non-null    float64\n",
            " 3   NumCaption                 380 non-null    float64\n",
            " 4   Targeting minimum age      380 non-null    float64\n",
            " 5   Targeting maximum age      380 non-null    float64\n",
            " 6   Cost                       380 non-null    float64\n",
            " 7   Impressions                380 non-null    float64\n",
            " 8   Reach                      380 non-null    float64\n",
            " 9   Link clicks                380 non-null    float64\n",
            " 10  Unique leads               380 non-null    float64\n",
            " 11  Cost per on-Facebook lead  380 non-null    float64\n",
            " 12  Rate                       380 non-null    float64\n",
            " 13  CTR                        380 non-null    float64\n",
            " 14  type_female                380 non-null    float64\n",
            " 15  type_male                  380 non-null    float64\n",
            " 16  type_18-24                 380 non-null    float64\n",
            " 17  type_25-34                 380 non-null    float64\n",
            " 18  type_35-44                 380 non-null    float64\n",
            " 19  type_45-54                 380 non-null    float64\n",
            " 20  type_55-64                 380 non-null    float64\n",
            " 21  type_65+                   380 non-null    float64\n",
            "dtypes: float64(22)\n",
            "memory usage: 68.3 KB\n"
          ],
          "name": "stdout"
        }
      ]
    },
    {
      "cell_type": "markdown",
      "metadata": {
        "id": "mpoGuKMPfB03"
      },
      "source": [
        "# 3.- Creacion de modelos\n"
      ]
    },
    {
      "cell_type": "markdown",
      "metadata": {
        "id": "7Re-nrfmtSVA"
      },
      "source": [
        "## 3.0.-pycaret"
      ]
    },
    {
      "cell_type": "code",
      "metadata": {
        "id": "sBk8cdF2soa7"
      },
      "source": [
        "pycaret: (Tania)"
      ],
      "execution_count": null,
      "outputs": []
    },
    {
      "cell_type": "markdown",
      "metadata": {
        "id": "6BicrXLCViJf"
      },
      "source": [
        "https://www.kaggle.com/niklasdonges/end-to-end-project-with-python\n",
        "https://github.com/see-ecuador/MLProductivo/blob/main/diabetes.ipynb"
      ]
    },
    {
      "cell_type": "markdown",
      "metadata": {
        "id": "dnkuViuo2KBJ"
      },
      "source": [
        "## 3.1.- Regresion Logistica\n"
      ]
    },
    {
      "cell_type": "markdown",
      "metadata": {
        "id": "FIFygRVz7BdK"
      },
      "source": [
        "Modelo"
      ]
    },
    {
      "cell_type": "code",
      "metadata": {
        "id": "CpQ9UYW8GuZR",
        "colab": {
          "base_uri": "https://localhost:8080/"
        },
        "outputId": "96f0e069-b911-44d1-9063-dcc2ccbcf150"
      },
      "source": [
        "# get modelo\n",
        "accuracies = {}\n",
        "\n",
        "lr = LogisticRegression()\n",
        "lr.fit(x_train,y_train)\n",
        "acc = lr.score(x_test,y_test)*100\n",
        "\n",
        "accuracies['Logistic Regression'] = acc\n",
        "print(\"Test Accuracy {:.2f}%\".format(acc))"
      ],
      "execution_count": null,
      "outputs": [
        {
          "output_type": "stream",
          "text": [
            "Test Accuracy 73.96%\n"
          ],
          "name": "stdout"
        }
      ]
    },
    {
      "cell_type": "code",
      "metadata": {
        "id": "iCodKUWBAUZG"
      },
      "source": [
        "# get importance\n",
        "importance = lr.coef_[0]\n",
        "\n",
        "# summarize feature importance\n",
        "# df_imp = pd.DataFrame({'feature':list(x_train.columns), 'importance':importance})\n",
        "# display(df_imp.sort_values('importance', ascending=False).head(20))"
      ],
      "execution_count": null,
      "outputs": []
    },
    {
      "cell_type": "code",
      "metadata": {
        "id": "nxTLBQsiFAJm"
      },
      "source": [
        "# plot feature importance\n",
        "# plt.figure(figsize = (13,5))\n",
        "# plt.bar(list(x_train.columns), importance)\n",
        "# plt.xticks(rotation = 90)\n",
        "#plt.ylim((0,10)\n",
        "#plt.show()"
      ],
      "execution_count": null,
      "outputs": []
    },
    {
      "cell_type": "code",
      "metadata": {
        "id": "ZnOAEF7r7_nT"
      },
      "source": [
        "#metrics.accuracy_score(y_train, enet_tuned.predict(X_train_cp))\n",
        "#lr.score(x_test.T,y_test.T)"
      ],
      "execution_count": null,
      "outputs": []
    },
    {
      "cell_type": "code",
      "metadata": {
        "id": "otQsg28_rKdB"
      },
      "source": [
        "#print( classification_report(y_train, reglog.predict(X_train_cp)) )"
      ],
      "execution_count": null,
      "outputs": []
    },
    {
      "cell_type": "markdown",
      "metadata": {
        "id": "r6EEnB3zr0k3"
      },
      "source": [
        "Graficar los features importantes"
      ]
    },
    {
      "cell_type": "markdown",
      "metadata": {
        "id": "BQwBGGXtwnxD"
      },
      "source": [
        "Plot of a ROC"
      ]
    },
    {
      "cell_type": "code",
      "metadata": {
        "id": "FAu2MjnmrpwA"
      },
      "source": [
        "#lr.feature_importances\n",
        "#https://machinelearningmastery.com/calculate-feature-importance-with-python/\n",
        "#https://scikit-learn.org/stable/auto_examples/ensemble/plot_forest_importances.html\n"
      ],
      "execution_count": null,
      "outputs": []
    },
    {
      "cell_type": "markdown",
      "metadata": {
        "id": "VOiN7MLNvEcl"
      },
      "source": [
        "## 3.2.- Elastic Net"
      ]
    },
    {
      "cell_type": "code",
      "metadata": {
        "id": "WE8CTbCDvNE7",
        "colab": {
          "base_uri": "https://localhost:8080/"
        },
        "outputId": "dd4e12c2-c6b5-4988-b350-c1c075bd062a"
      },
      "source": [
        "accuracies = {}\n",
        "enet = LogisticRegression(penalty= 'elasticnet', solver= 'saga', max_iter=500,l1_ratio=0.1)\n",
        "enet.fit(x_train, y_train)\n",
        "acc = enet.score(x_test,y_test)*100\n",
        "accuracies['enet'] = acc\n",
        "print(\"Test Accuracy of Elastic net Algorithm: {:.2f}%\".format(acc))"
      ],
      "execution_count": null,
      "outputs": [
        {
          "output_type": "stream",
          "text": [
            "Test Accuracy of Elastic net Algorithm: 75.00%\n"
          ],
          "name": "stdout"
        }
      ]
    },
    {
      "cell_type": "code",
      "metadata": {
        "colab": {
          "base_uri": "https://localhost:8080/",
          "height": 653
        },
        "id": "iwlG-ncU-2e-",
        "outputId": "f8c5c58f-bf0f-4729-b0c5-70ab41504d73"
      },
      "source": [
        "# get importance\n",
        "importance = enet.coef_[0]\n",
        "\n",
        "# summarize feature importance\n",
        "df_imp = pd.DataFrame({'feature':list(x_train.columns), 'importance':importance})\n",
        "display(df_imp.sort_values('importance', ascending=False).head(20))"
      ],
      "execution_count": null,
      "outputs": [
        {
          "output_type": "display_data",
          "data": {
            "text/html": [
              "<div>\n",
              "<style scoped>\n",
              "    .dataframe tbody tr th:only-of-type {\n",
              "        vertical-align: middle;\n",
              "    }\n",
              "\n",
              "    .dataframe tbody tr th {\n",
              "        vertical-align: top;\n",
              "    }\n",
              "\n",
              "    .dataframe thead th {\n",
              "        text-align: right;\n",
              "    }\n",
              "</style>\n",
              "<table border=\"1\" class=\"dataframe\">\n",
              "  <thead>\n",
              "    <tr style=\"text-align: right;\">\n",
              "      <th></th>\n",
              "      <th>feature</th>\n",
              "      <th>importance</th>\n",
              "    </tr>\n",
              "  </thead>\n",
              "  <tbody>\n",
              "    <tr>\n",
              "      <th>11</th>\n",
              "      <td>Cost per on-Facebook lead</td>\n",
              "      <td>6.587250</td>\n",
              "    </tr>\n",
              "    <tr>\n",
              "      <th>6</th>\n",
              "      <td>Cost</td>\n",
              "      <td>1.126956</td>\n",
              "    </tr>\n",
              "    <tr>\n",
              "      <th>8</th>\n",
              "      <td>Reach</td>\n",
              "      <td>0.952138</td>\n",
              "    </tr>\n",
              "    <tr>\n",
              "      <th>0</th>\n",
              "      <td>Month</td>\n",
              "      <td>0.916316</td>\n",
              "    </tr>\n",
              "    <tr>\n",
              "      <th>7</th>\n",
              "      <td>Impressions</td>\n",
              "      <td>0.759513</td>\n",
              "    </tr>\n",
              "    <tr>\n",
              "      <th>1</th>\n",
              "      <td>NumDescripcion</td>\n",
              "      <td>0.668065</td>\n",
              "    </tr>\n",
              "    <tr>\n",
              "      <th>9</th>\n",
              "      <td>Link clicks</td>\n",
              "      <td>0.509417</td>\n",
              "    </tr>\n",
              "    <tr>\n",
              "      <th>18</th>\n",
              "      <td>type_35-44</td>\n",
              "      <td>0.281768</td>\n",
              "    </tr>\n",
              "    <tr>\n",
              "      <th>5</th>\n",
              "      <td>Targeting maximum age</td>\n",
              "      <td>0.148895</td>\n",
              "    </tr>\n",
              "    <tr>\n",
              "      <th>4</th>\n",
              "      <td>Targeting minimum age</td>\n",
              "      <td>0.103533</td>\n",
              "    </tr>\n",
              "    <tr>\n",
              "      <th>19</th>\n",
              "      <td>type_45-54</td>\n",
              "      <td>0.096728</td>\n",
              "    </tr>\n",
              "    <tr>\n",
              "      <th>3</th>\n",
              "      <td>NumCaption</td>\n",
              "      <td>0.083998</td>\n",
              "    </tr>\n",
              "    <tr>\n",
              "      <th>15</th>\n",
              "      <td>type_male</td>\n",
              "      <td>0.077731</td>\n",
              "    </tr>\n",
              "    <tr>\n",
              "      <th>17</th>\n",
              "      <td>type_25-34</td>\n",
              "      <td>0.000000</td>\n",
              "    </tr>\n",
              "    <tr>\n",
              "      <th>20</th>\n",
              "      <td>type_55-64</td>\n",
              "      <td>0.000000</td>\n",
              "    </tr>\n",
              "    <tr>\n",
              "      <th>12</th>\n",
              "      <td>Rate</td>\n",
              "      <td>-0.029482</td>\n",
              "    </tr>\n",
              "    <tr>\n",
              "      <th>2</th>\n",
              "      <td>NumMessage</td>\n",
              "      <td>-0.038917</td>\n",
              "    </tr>\n",
              "    <tr>\n",
              "      <th>13</th>\n",
              "      <td>CTR</td>\n",
              "      <td>-0.069167</td>\n",
              "    </tr>\n",
              "    <tr>\n",
              "      <th>14</th>\n",
              "      <td>type_female</td>\n",
              "      <td>-0.096732</td>\n",
              "    </tr>\n",
              "    <tr>\n",
              "      <th>16</th>\n",
              "      <td>type_18-24</td>\n",
              "      <td>-0.159613</td>\n",
              "    </tr>\n",
              "  </tbody>\n",
              "</table>\n",
              "</div>"
            ],
            "text/plain": [
              "                      feature  importance\n",
              "11  Cost per on-Facebook lead    6.587250\n",
              "6                        Cost    1.126956\n",
              "8                       Reach    0.952138\n",
              "0                       Month    0.916316\n",
              "7                 Impressions    0.759513\n",
              "1              NumDescripcion    0.668065\n",
              "9                 Link clicks    0.509417\n",
              "18                 type_35-44    0.281768\n",
              "5       Targeting maximum age    0.148895\n",
              "4       Targeting minimum age    0.103533\n",
              "19                 type_45-54    0.096728\n",
              "3                  NumCaption    0.083998\n",
              "15                  type_male    0.077731\n",
              "17                 type_25-34    0.000000\n",
              "20                 type_55-64    0.000000\n",
              "12                       Rate   -0.029482\n",
              "2                  NumMessage   -0.038917\n",
              "13                        CTR   -0.069167\n",
              "14                type_female   -0.096732\n",
              "16                 type_18-24   -0.159613"
            ]
          },
          "metadata": {
            "tags": []
          }
        }
      ]
    },
    {
      "cell_type": "code",
      "metadata": {
        "id": "sBvWy2Yw-_M0",
        "colab": {
          "base_uri": "https://localhost:8080/",
          "height": 605
        },
        "outputId": "51b6faaa-96b3-4607-fca0-20f8e0fdac18"
      },
      "source": [
        "# plot feature importance\n",
        "plt.figure(figsize = (13,5))\n",
        "plt.bar(list(x_train.columns), importance)\n",
        "plt.xticks(rotation = 90)\n",
        "#plt.ylim((0,10)\n",
        "plt.show()"
      ],
      "execution_count": null,
      "outputs": [
        {
          "output_type": "display_data",
          "data": {
            "image/png": "[encoded data removed]",
            "text/plain": [
              "<Figure size 936x360 with 1 Axes>"
            ]
          },
          "metadata": {
            "tags": []
          }
        }
      ]
    },
    {
      "cell_type": "markdown",
      "metadata": {
        "id": "k9J221EF4CG0"
      },
      "source": [
        "## 3.3.- Support Vector Machine (SVM) Algorithm\n"
      ]
    },
    {
      "cell_type": "code",
      "metadata": {
        "id": "xW15CCW24IBz"
      },
      "source": [
        "from sklearn.svm import SVC"
      ],
      "execution_count": null,
      "outputs": []
    },
    {
      "cell_type": "code",
      "metadata": {
        "id": "Eg15JuKBEPLC",
        "colab": {
          "base_uri": "https://localhost:8080/"
        },
        "outputId": "0e067be3-9b01-43c6-a063-c102d29e804a"
      },
      "source": [
        "x_train.T.info()"
      ],
      "execution_count": null,
      "outputs": [
        {
          "output_type": "stream",
          "text": [
            "<class 'pandas.core.frame.DataFrame'>\n",
            "Index: 22 entries, Month to type_65+\n",
            "Columns: 380 entries, 1351 to 1280\n",
            "dtypes: float64(380)\n",
            "memory usage: 66.1+ KB\n"
          ],
          "name": "stdout"
        }
      ]
    },
    {
      "cell_type": "code",
      "metadata": {
        "colab": {
          "base_uri": "https://localhost:8080/"
        },
        "id": "VxX20k-64K0b",
        "outputId": "09b80e00-9c54-4449-d4c6-fc7884bf4a09"
      },
      "source": [
        "accuracies = {}\n",
        "svm = SVC(random_state = 1)\n",
        "svm.fit(x_train, y_train)\n",
        "\n",
        "acc = svm.score(x_test,y_test)*100\n",
        "accuracies['SVM'] = acc\n",
        "print(\"Test Accuracy of SVM Algorithm: {:.2f}%\".format(acc))"
      ],
      "execution_count": null,
      "outputs": [
        {
          "output_type": "stream",
          "text": [
            "Test Accuracy of SVM Algorithm: 61.46%\n"
          ],
          "name": "stdout"
        }
      ]
    },
    {
      "cell_type": "code",
      "metadata": {
        "colab": {
          "base_uri": "https://localhost:8080/"
        },
        "id": "yGoLAmcirRLw",
        "outputId": "45db2ae5-67bb-4c09-c22c-184d58bc8b8a"
      },
      "source": [
        "type(svm)"
      ],
      "execution_count": null,
      "outputs": [
        {
          "output_type": "execute_result",
          "data": {
            "text/plain": [
              "sklearn.svm._classes.SVC"
            ]
          },
          "metadata": {
            "tags": []
          },
          "execution_count": 43
        }
      ]
    },
    {
      "cell_type": "markdown",
      "metadata": {
        "id": "JrQkFkQIwv5K"
      },
      "source": [
        "Plot of a ROC"
      ]
    },
    {
      "cell_type": "markdown",
      "metadata": {
        "id": "0oeS2TjpHjmR"
      },
      "source": [
        "## 3.4- KNN"
      ]
    },
    {
      "cell_type": "code",
      "metadata": {
        "colab": {
          "base_uri": "https://localhost:8080/"
        },
        "id": "yh9c5HQpHlBg",
        "outputId": "2ecb9ac7-ba6a-48c9-b2dd-3bcccbad9474"
      },
      "source": [
        "# KNN Model\n",
        "from sklearn.neighbors import KNeighborsClassifier\n",
        "knn = KNeighborsClassifier(n_neighbors = 2)  # n_neighbors means k\n",
        "knn.fit(x_train, y_train)\n",
        "prediction = knn.predict(x_test)\n",
        "\n",
        "print(\"{} NN Score: {:.2f}%\".format(2, knn.score(x_test, y_test)*100))"
      ],
      "execution_count": null,
      "outputs": [
        {
          "output_type": "stream",
          "text": [
            "2 NN Score: 48.96%\n"
          ],
          "name": "stdout"
        }
      ]
    },
    {
      "cell_type": "code",
      "metadata": {
        "id": "AVcKmkXVHpPM"
      },
      "source": [
        "# try ro find best k value\n",
        "#  scoreList = []\n",
        "#  for i in range(1,20):\n",
        "#   knn2 = KNeighborsClassifier(n_neighbors = i)  # n_neighbors means k\n",
        "#  knn2.fit(x_train, y_train)\n",
        "#   scoreList.append(knn2.score(x_test, y_test))\n",
        "    \n",
        "#  plt.plot(range(1,20), scoreList)\n",
        "#  plt.xticks(np.arange(1,20,1))\n",
        "# plt.xlabel(\"K value\")\n",
        "#  plt.ylabel(\"Score\")\n",
        "# plt.show()\n",
        "\n",
        "acc = max(scoreList)*100\n",
        "accuracies['KNN'] = acc\n",
        "print(\"Maximum KNN Score is {:.2f}%\".format(acc))"
      ],
      "execution_count": null,
      "outputs": []
    },
    {
      "cell_type": "markdown",
      "metadata": {
        "id": "gdNZ4fOkH2dK"
      },
      "source": [
        "**texto en negrita**# 4.- Naive Bayes Algorithm"
      ]
    },
    {
      "cell_type": "code",
      "metadata": {
        "colab": {
          "base_uri": "https://localhost:8080/"
        },
        "id": "2dWTGOnjH5yT",
        "outputId": "8ecc2b1f-68f3-44e9-b687-cba6f2c88b79"
      },
      "source": [
        "from sklearn.naive_bayes import GaussianNB\n",
        "nb = GaussianNB()\n",
        "nb.fit(x_train, y_train)\n",
        "\n",
        "acc = nb.score(x_test,y_test)*100\n",
        "accuracies['Naive Bayes'] = acc\n",
        "print(\"Accuracy of Naive Bayes: {:.2f}%\".format(acc))"
      ],
      "execution_count": null,
      "outputs": [
        {
          "output_type": "stream",
          "text": [
            "Accuracy of Naive Bayes: 83.33%\n"
          ],
          "name": "stdout"
        }
      ]
    },
    {
      "cell_type": "markdown",
      "metadata": {
        "id": "lrOH2Aw1IvLD"
      },
      "source": [
        "## 3.5.- Decision Tree Algorithm\n",
        "\n"
      ]
    },
    {
      "cell_type": "code",
      "metadata": {
        "colab": {
          "base_uri": "https://localhost:8080/"
        },
        "id": "CLCw5gpuIwph",
        "outputId": "4e3d8382-6f50-4f6c-e4fb-4f787191a957"
      },
      "source": [
        "from sklearn.tree import DecisionTreeClassifier\n",
        "from matplotlib import pyplot\n",
        "dtc = DecisionTreeClassifier()\n",
        "dtc.fit(x_train, y_train)\n",
        "\n",
        "acc = dtc.score(x_test, y_test)*100\n",
        "accuracies['Decision Tree'] = acc\n",
        "print(\"Decision Tree Test Accuracy {:.2f}%\".format(acc))"
      ],
      "execution_count": null,
      "outputs": [
        {
          "output_type": "stream",
          "text": [
            "Decision Tree Test Accuracy 100.00%\n"
          ],
          "name": "stdout"
        }
      ]
    },
    {
      "cell_type": "markdown",
      "metadata": {
        "id": "qPaWBHCFHzXo"
      },
      "source": [
        "### Gini"
      ]
    },
    {
      "cell_type": "code",
      "metadata": {
        "colab": {
          "base_uri": "https://localhost:8080/"
        },
        "id": "8QZ-Dh-eFeGr",
        "outputId": "749c9c84-923a-4469-8630-af13df65b509"
      },
      "source": [
        "clf_gini = DecisionTreeClassifier(criterion='gini', max_depth=3, random_state=0)\n",
        "\n",
        "\n",
        "# fit the model\n",
        "clf_gini.fit(x_train, y_train)\n",
        "acc = clf_gini.score(x_test, y_test)*100\n",
        "accuracies['Decision Tree gini'] = acc\n",
        "print(\"Decision Tree Gini Test Accuracy {:.2f}%\".format(acc))\n",
        "\n",
        "#Compare the train-set and test-set accuracy\n",
        "\n",
        "y_pred_gini = clf_gini.predict(x_test)\n",
        "y_pred_train_gini = clf_gini.predict(x_train)\n",
        "y_pred_train_gini\n",
        "\n",
        "#Check for overfitting and underfitting\n",
        "# print the scores on training and test set\n",
        "\n",
        "print('Training set score: {:.4f}'.format(clf_gini.score(x_train, y_train)))\n",
        "\n",
        "print('Test set score: {:.4f}'.format(clf_gini.score(x_test, y_test)))\n"
      ],
      "execution_count": null,
      "outputs": [
        {
          "output_type": "stream",
          "text": [
            "Decision Tree Gini Test Accuracy 100.00%\n",
            "Training set score: 1.0000\n",
            "Test set score: 1.0000\n"
          ],
          "name": "stdout"
        }
      ]
    },
    {
      "cell_type": "code",
      "metadata": {
        "colab": {
          "base_uri": "https://localhost:8080/"
        },
        "id": "I9OjfZDuHKNU",
        "outputId": "b59cb3e9-d3c5-4bd0-90fe-bdf522acc9a7"
      },
      "source": [
        "# Visualize decision-trees\n",
        "\n",
        "\n",
        "from sklearn import tree\n",
        "\n",
        "tree.plot_tree(clf_gini.fit(x_train, y_train)) "
      ],
      "execution_count": null,
      "outputs": [
        {
          "output_type": "execute_result",
          "data": {
            "text/plain": [
              "[Text(133.92000000000002, 181.2, 'X[11] <= 0.11\\ngini = 0.626\\nsamples = 380\\nvalue = [92, 189, 99]'),\n",
              " Text(66.96000000000001, 108.72, 'gini = 0.0\\nsamples = 99\\nvalue = [0, 0, 99]'),\n",
              " Text(200.88000000000002, 108.72, 'X[11] <= 0.271\\ngini = 0.44\\nsamples = 281\\nvalue = [92, 189, 0]'),\n",
              " Text(133.92000000000002, 36.23999999999998, 'gini = 0.0\\nsamples = 189\\nvalue = [0, 189, 0]'),\n",
              " Text(267.84000000000003, 36.23999999999998, 'gini = 0.0\\nsamples = 92\\nvalue = [92, 0, 0]')]"
            ]
          },
          "metadata": {
            "tags": []
          },
          "execution_count": 54
        },
        {
          "output_type": "display_data",
          "data": {
            "image/png": "[encoded data removed]",
            "text/plain": [
              "<Figure size 432x288 with 1 Axes>"
            ]
          },
          "metadata": {
            "tags": []
          }
        }
      ]
    },
    {
      "cell_type": "markdown",
      "metadata": {
        "id": "5L8Z1zO7Ktuk"
      },
      "source": [
        "### Entropy"
      ]
    },
    {
      "cell_type": "code",
      "metadata": {
        "colab": {
          "base_uri": "https://localhost:8080/"
        },
        "id": "G3ljzkArKx2t",
        "outputId": "d776d0d7-6aed-48ae-a462-5d935f761a71"
      },
      "source": [
        "\n",
        "from sklearn import tree\n",
        "from sklearn.tree import DecisionTreeClassifier\n",
        "from sklearn.metrics import accuracy_score\n",
        "\n",
        "# instantiate the DecisionTreeClassifier model with criterion entropy\n",
        "\n",
        "clf_en = DecisionTreeClassifier(criterion='entropy', max_depth=3, random_state=0)\n",
        "\n",
        "\n",
        "# fit the model\n",
        "clf_en.fit(x_train, y_train)\n",
        "\n",
        "#Predict the Test set results with criterion entropy\n",
        "y_pred_en = clf_en.predict(x_test)\n",
        "\n",
        "#Check accuracy score with criterion entropy\n",
        "print('Model accuracy score with criterion entropy: {0:0.4f}'. format(accuracy_score(y_test, y_pred_en)))\n",
        "\n",
        "y_pred_train_en = clf_en.predict(x_train)\n",
        "\n",
        "y_pred_train_en\n",
        "print('Training-set accuracy score: {0:0.4f}'. format(accuracy_score(y_train, y_pred_train_en)))\n",
        "\n",
        "#Check for overfitting and underfitting\n",
        "\n",
        "print('Training set score: {:.4f}'.format(clf_en.score(x_train, y_train)))\n",
        "\n",
        "print('Test set score: {:.4f}'.format(clf_en.score(x_test, y_test)))"
      ],
      "execution_count": null,
      "outputs": [
        {
          "output_type": "stream",
          "text": [
            "Model accuracy score with criterion entropy: 1.0000\n",
            "Training-set accuracy score: 1.0000\n",
            "Training set score: 1.0000\n",
            "Test set score: 1.0000\n"
          ],
          "name": "stdout"
        }
      ]
    },
    {
      "cell_type": "code",
      "metadata": {
        "colab": {
          "base_uri": "https://localhost:8080/"
        },
        "id": "7CLRU59TMjzS",
        "outputId": "f386e3f3-d9ea-4a67-aca4-bdd63230f8f6"
      },
      "source": [
        "#Visualize decision-trees\n",
        "\n",
        "plt.figure(figsize=(12,8))\n",
        "\n",
        "from sklearn import tree\n",
        "\n",
        "tree.plot_tree(clf_en.fit(x_train, y_train)) "
      ],
      "execution_count": null,
      "outputs": [
        {
          "output_type": "execute_result",
          "data": {
            "text/plain": [
              "[Text(267.84000000000003, 362.4, 'X[11] <= 0.11\\nentropy = 1.502\\nsamples = 380\\nvalue = [92, 189, 99]'),\n",
              " Text(133.92000000000002, 217.44, 'entropy = 0.0\\nsamples = 99\\nvalue = [0, 0, 99]'),\n",
              " Text(401.76000000000005, 217.44, 'X[11] <= 0.271\\nentropy = 0.912\\nsamples = 281\\nvalue = [92, 189, 0]'),\n",
              " Text(267.84000000000003, 72.47999999999996, 'entropy = 0.0\\nsamples = 189\\nvalue = [0, 189, 0]'),\n",
              " Text(535.6800000000001, 72.47999999999996, 'entropy = 0.0\\nsamples = 92\\nvalue = [92, 0, 0]')]"
            ]
          },
          "metadata": {
            "tags": []
          },
          "execution_count": 56
        },
        {
          "output_type": "display_data",
          "data": {
            "image/png": "[encoded data removed]",
            "text/plain": [
              "<Figure size 864x576 with 1 Axes>"
            ]
          },
          "metadata": {
            "tags": []
          }
        }
      ]
    },
    {
      "cell_type": "markdown",
      "metadata": {
        "id": "Eyw_JuMJG4nZ"
      },
      "source": [
        "Bibliografia\n",
        "https://www.kaggle.com/prashant111/decision-tree-classifier-tutorial"
      ]
    },
    {
      "cell_type": "markdown",
      "metadata": {
        "id": "DnYtQ--vI96P"
      },
      "source": [
        "## 3.6.-Random Forest Classification"
      ]
    },
    {
      "cell_type": "markdown",
      "metadata": {
        "id": "UNj8ESpLwUTc"
      },
      "source": [
        "https://scikit-learn.org/stable/auto_examples/model_selection/plot_roc.html"
      ]
    },
    {
      "cell_type": "code",
      "metadata": {
        "colab": {
          "base_uri": "https://localhost:8080/"
        },
        "id": "nZ7CLXHfI7wi",
        "outputId": "93ac4747-7c56-462d-c8d6-4966950a6fd9"
      },
      "source": [
        "# Random Forest Classification\n",
        "from sklearn.ensemble import RandomForestClassifier\n",
        "rf = RandomForestClassifier(n_estimators = 1000, random_state = 1)\n",
        "rf.fit(x_train, y_train)\n",
        "\n",
        "acc = rf.score(x_test,y_test)*100\n",
        "accuracies['Random Forest'] = acc\n",
        "print(\"Random Forest Algorithm Accuracy Score : {:.2f}%\".format(acc))"
      ],
      "execution_count": null,
      "outputs": [
        {
          "output_type": "stream",
          "text": [
            "Random Forest Algorithm Accuracy Score : 98.96%\n"
          ],
          "name": "stdout"
        }
      ]
    },
    {
      "cell_type": "markdown",
      "metadata": {
        "id": "-_tXKDvfro-b"
      },
      "source": [
        "## 3.7.-Keras"
      ]
    },
    {
      "cell_type": "code",
      "metadata": {
        "id": "NPHuvMB8rzDY"
      },
      "source": [
        "import tensorflow as tf\n",
        "def build_model():\n",
        "    model = tf.keras.Sequential([\n",
        "    tf.keras.layers.Dense(8, activation='relu', input_shape=[len(x_train.keys())]),\n",
        "    tf.keras.layers.Dense(4, activation='relu'),\n",
        "    tf.keras.layers.Dense(2, activation='relu'),\n",
        "    tf.keras.layers.Dense(1,activation='sigmoid')\n",
        "  ])\n",
        "\n",
        "    optimizer = tf.keras.optimizers.Adam(learning_rate=0.01, beta_1=0.9, beta_2=0.999, epsilon=1e-07)\n",
        "\n",
        "    model.compile(loss='binary_crossentropy', optimizer=optimizer, metrics=['accuracy'])\n",
        "    return model\n",
        "\n",
        "neural_model = build_model()\n"
      ],
      "execution_count": null,
      "outputs": []
    },
    {
      "cell_type": "code",
      "metadata": {
        "colab": {
          "base_uri": "https://localhost:8080/"
        },
        "id": "LZlw9TKZr_Qq",
        "outputId": "9002ae32-1eb5-4885-9081-0b6f78f6f977"
      },
      "source": [
        "neural_model.summary()"
      ],
      "execution_count": null,
      "outputs": [
        {
          "output_type": "stream",
          "text": [
            "Model: \"sequential\"\n",
            "_________________________________________________________________\n",
            "Layer (type)                 Output Shape              Param #   \n",
            "=================================================================\n",
            "dense (Dense)                (None, 8)                 184       \n",
            "_________________________________________________________________\n",
            "dense_1 (Dense)              (None, 4)                 36        \n",
            "_________________________________________________________________\n",
            "dense_2 (Dense)              (None, 2)                 10        \n",
            "_________________________________________________________________\n",
            "dense_3 (Dense)              (None, 1)                 3         \n",
            "=================================================================\n",
            "Total params: 233\n",
            "Trainable params: 233\n",
            "Non-trainable params: 0\n",
            "_________________________________________________________________\n"
          ],
          "name": "stdout"
        }
      ]
    },
    {
      "cell_type": "code",
      "metadata": {
        "colab": {
          "base_uri": "https://localhost:8080/"
        },
        "id": "5LZ-GplOsF-e",
        "outputId": "70632ceb-8108-4e68-b216-4fd215db9702"
      },
      "source": [
        "# Keeping EPOCHs high as dataset is small.\n",
        "EPOCHS = 100\n",
        "neural_pred = neural_model.fit(x_train, y_train,epochs=EPOCHS, validation_split=0.1, verbose=2)"
      ],
      "execution_count": null,
      "outputs": [
        {
          "output_type": "stream",
          "text": [
            "Epoch 1/100\n",
            "11/11 - 1s - loss: 0.6827 - accuracy: 0.4123 - val_loss: 0.6316 - val_accuracy: 0.5000\n",
            "Epoch 2/100\n",
            "11/11 - 0s - loss: 0.6167 - accuracy: 0.4971 - val_loss: 0.5732 - val_accuracy: 0.5000\n",
            "Epoch 3/100\n",
            "11/11 - 0s - loss: 0.5676 - accuracy: 0.4971 - val_loss: 0.5203 - val_accuracy: 0.5000\n",
            "Epoch 4/100\n",
            "11/11 - 0s - loss: 0.5218 - accuracy: 0.4971 - val_loss: 0.4724 - val_accuracy: 0.5000\n",
            "Epoch 5/100\n",
            "11/11 - 0s - loss: 0.4818 - accuracy: 0.4971 - val_loss: 0.4273 - val_accuracy: 0.5000\n",
            "Epoch 6/100\n",
            "11/11 - 0s - loss: 0.4452 - accuracy: 0.4971 - val_loss: 0.3857 - val_accuracy: 0.5000\n",
            "Epoch 7/100\n",
            "11/11 - 0s - loss: 0.4133 - accuracy: 0.4971 - val_loss: 0.3458 - val_accuracy: 0.5000\n",
            "Epoch 8/100\n",
            "11/11 - 0s - loss: 0.3811 - accuracy: 0.4971 - val_loss: 0.3113 - val_accuracy: 0.5000\n",
            "Epoch 9/100\n",
            "11/11 - 0s - loss: 0.3538 - accuracy: 0.4971 - val_loss: 0.2791 - val_accuracy: 0.5000\n",
            "Epoch 10/100\n",
            "11/11 - 0s - loss: 0.3275 - accuracy: 0.4971 - val_loss: 0.2502 - val_accuracy: 0.5000\n",
            "Epoch 11/100\n",
            "11/11 - 0s - loss: 0.3057 - accuracy: 0.4971 - val_loss: 0.2221 - val_accuracy: 0.5000\n",
            "Epoch 12/100\n",
            "11/11 - 0s - loss: 0.2827 - accuracy: 0.4971 - val_loss: 0.1976 - val_accuracy: 0.5000\n",
            "Epoch 13/100\n",
            "11/11 - 0s - loss: 0.2640 - accuracy: 0.4971 - val_loss: 0.1737 - val_accuracy: 0.5000\n",
            "Epoch 14/100\n",
            "11/11 - 0s - loss: 0.2454 - accuracy: 0.4971 - val_loss: 0.1523 - val_accuracy: 0.5000\n",
            "Epoch 15/100\n",
            "11/11 - 0s - loss: 0.2293 - accuracy: 0.4971 - val_loss: 0.1316 - val_accuracy: 0.5000\n",
            "Epoch 16/100\n",
            "11/11 - 0s - loss: 0.2141 - accuracy: 0.4971 - val_loss: 0.1122 - val_accuracy: 0.5000\n",
            "Epoch 17/100\n",
            "11/11 - 0s - loss: 0.1998 - accuracy: 0.4971 - val_loss: 0.0941 - val_accuracy: 0.5000\n",
            "Epoch 18/100\n",
            "11/11 - 0s - loss: 0.1870 - accuracy: 0.4971 - val_loss: 0.0774 - val_accuracy: 0.5000\n",
            "Epoch 19/100\n",
            "11/11 - 0s - loss: 0.1748 - accuracy: 0.4971 - val_loss: 0.0623 - val_accuracy: 0.5000\n",
            "Epoch 20/100\n",
            "11/11 - 0s - loss: 0.1644 - accuracy: 0.4971 - val_loss: 0.0478 - val_accuracy: 0.5000\n",
            "Epoch 21/100\n",
            "11/11 - 0s - loss: 0.1543 - accuracy: 0.4971 - val_loss: 0.0343 - val_accuracy: 0.5000\n",
            "Epoch 22/100\n",
            "11/11 - 0s - loss: 0.1445 - accuracy: 0.4971 - val_loss: 0.0213 - val_accuracy: 0.5000\n",
            "Epoch 23/100\n",
            "11/11 - 0s - loss: 0.1352 - accuracy: 0.4971 - val_loss: 0.0099 - val_accuracy: 0.5000\n",
            "Epoch 24/100\n",
            "11/11 - 0s - loss: 0.1282 - accuracy: 0.4971 - val_loss: -2.5892e-03 - val_accuracy: 0.5000\n",
            "Epoch 25/100\n",
            "11/11 - 0s - loss: 0.1197 - accuracy: 0.4971 - val_loss: -1.3436e-02 - val_accuracy: 0.5000\n",
            "Epoch 26/100\n",
            "11/11 - 0s - loss: 0.1126 - accuracy: 0.4971 - val_loss: -2.3630e-02 - val_accuracy: 0.5000\n",
            "Epoch 27/100\n",
            "11/11 - 0s - loss: 0.1059 - accuracy: 0.4971 - val_loss: -3.3197e-02 - val_accuracy: 0.5000\n",
            "Epoch 28/100\n",
            "11/11 - 0s - loss: 0.0996 - accuracy: 0.4971 - val_loss: -4.1950e-02 - val_accuracy: 0.5000\n",
            "Epoch 29/100\n",
            "11/11 - 0s - loss: 0.0939 - accuracy: 0.4971 - val_loss: -5.0542e-02 - val_accuracy: 0.5000\n",
            "Epoch 30/100\n",
            "11/11 - 0s - loss: 0.0884 - accuracy: 0.4971 - val_loss: -5.8939e-02 - val_accuracy: 0.5000\n",
            "Epoch 31/100\n",
            "11/11 - 0s - loss: 0.0829 - accuracy: 0.4971 - val_loss: -6.6425e-02 - val_accuracy: 0.5000\n",
            "Epoch 32/100\n",
            "11/11 - 0s - loss: 0.0790 - accuracy: 0.4971 - val_loss: -7.5456e-02 - val_accuracy: 0.5000\n",
            "Epoch 33/100\n",
            "11/11 - 0s - loss: 0.0736 - accuracy: 0.4971 - val_loss: -8.2555e-02 - val_accuracy: 0.5000\n",
            "Epoch 34/100\n",
            "11/11 - 0s - loss: 0.0687 - accuracy: 0.4971 - val_loss: -8.8745e-02 - val_accuracy: 0.5000\n",
            "Epoch 35/100\n",
            "11/11 - 0s - loss: 0.0656 - accuracy: 0.4971 - val_loss: -9.6442e-02 - val_accuracy: 0.5000\n",
            "Epoch 36/100\n",
            "11/11 - 0s - loss: 0.0607 - accuracy: 0.4971 - val_loss: -1.0244e-01 - val_accuracy: 0.5000\n",
            "Epoch 37/100\n",
            "11/11 - 0s - loss: 0.0572 - accuracy: 0.4971 - val_loss: -1.0882e-01 - val_accuracy: 0.5000\n",
            "Epoch 38/100\n",
            "11/11 - 0s - loss: 0.0538 - accuracy: 0.4971 - val_loss: -1.1478e-01 - val_accuracy: 0.5000\n",
            "Epoch 39/100\n",
            "11/11 - 0s - loss: 0.0503 - accuracy: 0.4971 - val_loss: -1.2024e-01 - val_accuracy: 0.5000\n",
            "Epoch 40/100\n",
            "11/11 - 0s - loss: 0.0469 - accuracy: 0.4971 - val_loss: -1.2544e-01 - val_accuracy: 0.5000\n",
            "Epoch 41/100\n",
            "11/11 - 0s - loss: 0.0440 - accuracy: 0.4971 - val_loss: -1.3152e-01 - val_accuracy: 0.5000\n",
            "Epoch 42/100\n",
            "11/11 - 0s - loss: 0.0409 - accuracy: 0.4971 - val_loss: -1.3667e-01 - val_accuracy: 0.5000\n",
            "Epoch 43/100\n",
            "11/11 - 0s - loss: 0.0383 - accuracy: 0.4971 - val_loss: -1.4221e-01 - val_accuracy: 0.5000\n",
            "Epoch 44/100\n",
            "11/11 - 0s - loss: 0.0355 - accuracy: 0.4971 - val_loss: -1.4766e-01 - val_accuracy: 0.5000\n",
            "Epoch 45/100\n",
            "11/11 - 0s - loss: 0.0326 - accuracy: 0.4971 - val_loss: -1.5198e-01 - val_accuracy: 0.5000\n",
            "Epoch 46/100\n",
            "11/11 - 0s - loss: 0.0306 - accuracy: 0.4971 - val_loss: -1.5717e-01 - val_accuracy: 0.5000\n",
            "Epoch 47/100\n",
            "11/11 - 0s - loss: 0.0279 - accuracy: 0.4971 - val_loss: -1.6165e-01 - val_accuracy: 0.5000\n",
            "Epoch 48/100\n",
            "11/11 - 0s - loss: 0.0258 - accuracy: 0.4971 - val_loss: -1.6616e-01 - val_accuracy: 0.5000\n",
            "Epoch 49/100\n",
            "11/11 - 0s - loss: 0.0233 - accuracy: 0.4971 - val_loss: -1.6940e-01 - val_accuracy: 0.5000\n",
            "Epoch 50/100\n",
            "11/11 - 0s - loss: 0.0218 - accuracy: 0.4971 - val_loss: -1.7393e-01 - val_accuracy: 0.5000\n",
            "Epoch 51/100\n",
            "11/11 - 0s - loss: 0.0198 - accuracy: 0.4971 - val_loss: -1.7801e-01 - val_accuracy: 0.5000\n",
            "Epoch 52/100\n",
            "11/11 - 0s - loss: 0.0175 - accuracy: 0.4971 - val_loss: -1.8092e-01 - val_accuracy: 0.5000\n",
            "Epoch 53/100\n",
            "11/11 - 0s - loss: 0.0160 - accuracy: 0.4971 - val_loss: -1.8484e-01 - val_accuracy: 0.5000\n",
            "Epoch 54/100\n",
            "11/11 - 0s - loss: 0.0149 - accuracy: 0.4971 - val_loss: -1.8990e-01 - val_accuracy: 0.5000\n",
            "Epoch 55/100\n",
            "11/11 - 0s - loss: 0.0121 - accuracy: 0.4971 - val_loss: -1.9240e-01 - val_accuracy: 0.5000\n",
            "Epoch 56/100\n",
            "11/11 - 0s - loss: 0.0113 - accuracy: 0.4971 - val_loss: -1.9661e-01 - val_accuracy: 0.5000\n",
            "Epoch 57/100\n",
            "11/11 - 0s - loss: 0.0091 - accuracy: 0.4971 - val_loss: -1.9945e-01 - val_accuracy: 0.5000\n",
            "Epoch 58/100\n",
            "11/11 - 0s - loss: 0.0079 - accuracy: 0.4971 - val_loss: -2.0287e-01 - val_accuracy: 0.5000\n",
            "Epoch 59/100\n",
            "11/11 - 0s - loss: 0.0064 - accuracy: 0.4971 - val_loss: -2.0629e-01 - val_accuracy: 0.5000\n",
            "Epoch 60/100\n",
            "11/11 - 0s - loss: 0.0054 - accuracy: 0.4971 - val_loss: -2.0987e-01 - val_accuracy: 0.5000\n",
            "Epoch 61/100\n",
            "11/11 - 0s - loss: 0.0035 - accuracy: 0.4971 - val_loss: -2.1229e-01 - val_accuracy: 0.5000\n",
            "Epoch 62/100\n",
            "11/11 - 0s - loss: 0.0024 - accuracy: 0.4971 - val_loss: -2.1474e-01 - val_accuracy: 0.5000\n",
            "Epoch 63/100\n",
            "11/11 - 0s - loss: 0.0012 - accuracy: 0.4971 - val_loss: -2.1729e-01 - val_accuracy: 0.5000\n",
            "Epoch 64/100\n",
            "11/11 - 0s - loss: 1.9504e-04 - accuracy: 0.4971 - val_loss: -2.2064e-01 - val_accuracy: 0.5000\n",
            "Epoch 65/100\n",
            "11/11 - 0s - loss: -1.2702e-03 - accuracy: 0.4971 - val_loss: -2.2335e-01 - val_accuracy: 0.5000\n",
            "Epoch 66/100\n",
            "11/11 - 0s - loss: -2.4979e-03 - accuracy: 0.4971 - val_loss: -2.2617e-01 - val_accuracy: 0.5000\n",
            "Epoch 67/100\n",
            "11/11 - 0s - loss: -3.7428e-03 - accuracy: 0.4971 - val_loss: -2.2878e-01 - val_accuracy: 0.5000\n",
            "Epoch 68/100\n",
            "11/11 - 0s - loss: -4.8273e-03 - accuracy: 0.4971 - val_loss: -2.3169e-01 - val_accuracy: 0.5000\n",
            "Epoch 69/100\n",
            "11/11 - 0s - loss: -5.4730e-03 - accuracy: 0.4971 - val_loss: -2.3532e-01 - val_accuracy: 0.5000\n",
            "Epoch 70/100\n",
            "11/11 - 0s - loss: -6.9868e-03 - accuracy: 0.4971 - val_loss: -2.3801e-01 - val_accuracy: 0.5000\n",
            "Epoch 71/100\n",
            "11/11 - 0s - loss: -8.1234e-03 - accuracy: 0.4971 - val_loss: -2.4027e-01 - val_accuracy: 0.5000\n",
            "Epoch 72/100\n",
            "11/11 - 0s - loss: -9.2158e-03 - accuracy: 0.4971 - val_loss: -2.4282e-01 - val_accuracy: 0.5000\n",
            "Epoch 73/100\n",
            "11/11 - 0s - loss: -1.0345e-02 - accuracy: 0.4971 - val_loss: -2.4466e-01 - val_accuracy: 0.5000\n",
            "Epoch 74/100\n",
            "11/11 - 0s - loss: -1.1273e-02 - accuracy: 0.4971 - val_loss: -2.4795e-01 - val_accuracy: 0.5000\n",
            "Epoch 75/100\n",
            "11/11 - 0s - loss: -1.1949e-02 - accuracy: 0.4971 - val_loss: -2.5151e-01 - val_accuracy: 0.5000\n",
            "Epoch 76/100\n",
            "11/11 - 0s - loss: -1.3260e-02 - accuracy: 0.4971 - val_loss: -2.5363e-01 - val_accuracy: 0.5000\n",
            "Epoch 77/100\n",
            "11/11 - 0s - loss: -1.4042e-02 - accuracy: 0.4971 - val_loss: -2.5590e-01 - val_accuracy: 0.5000\n",
            "Epoch 78/100\n",
            "11/11 - 0s - loss: -1.4650e-02 - accuracy: 0.4971 - val_loss: -2.5837e-01 - val_accuracy: 0.5000\n",
            "Epoch 79/100\n",
            "11/11 - 0s - loss: -1.5751e-02 - accuracy: 0.4971 - val_loss: -2.5979e-01 - val_accuracy: 0.5000\n",
            "Epoch 80/100\n",
            "11/11 - 0s - loss: -1.6434e-02 - accuracy: 0.4971 - val_loss: -2.6213e-01 - val_accuracy: 0.5000\n",
            "Epoch 81/100\n",
            "11/11 - 0s - loss: -1.7288e-02 - accuracy: 0.4971 - val_loss: -2.6428e-01 - val_accuracy: 0.5000\n",
            "Epoch 82/100\n",
            "11/11 - 0s - loss: -1.8106e-02 - accuracy: 0.4971 - val_loss: -2.6618e-01 - val_accuracy: 0.5000\n",
            "Epoch 83/100\n",
            "11/11 - 0s - loss: -1.8811e-02 - accuracy: 0.4971 - val_loss: -2.6874e-01 - val_accuracy: 0.5000\n",
            "Epoch 84/100\n",
            "11/11 - 0s - loss: -1.8771e-02 - accuracy: 0.4971 - val_loss: -2.7209e-01 - val_accuracy: 0.5000\n",
            "Epoch 85/100\n",
            "11/11 - 0s - loss: -2.0381e-02 - accuracy: 0.4971 - val_loss: -2.7379e-01 - val_accuracy: 0.5000\n",
            "Epoch 86/100\n",
            "11/11 - 0s - loss: -2.0924e-02 - accuracy: 0.4971 - val_loss: -2.7618e-01 - val_accuracy: 0.5000\n",
            "Epoch 87/100\n",
            "11/11 - 0s - loss: -2.1781e-02 - accuracy: 0.4971 - val_loss: -2.7804e-01 - val_accuracy: 0.5000\n",
            "Epoch 88/100\n",
            "11/11 - 0s - loss: -2.2657e-02 - accuracy: 0.4971 - val_loss: -2.7950e-01 - val_accuracy: 0.5000\n",
            "Epoch 89/100\n",
            "11/11 - 0s - loss: -2.2980e-02 - accuracy: 0.4971 - val_loss: -2.8199e-01 - val_accuracy: 0.5000\n",
            "Epoch 90/100\n",
            "11/11 - 0s - loss: -2.3133e-02 - accuracy: 0.4971 - val_loss: -2.8500e-01 - val_accuracy: 0.5000\n",
            "Epoch 91/100\n",
            "11/11 - 0s - loss: -2.4655e-02 - accuracy: 0.4971 - val_loss: -2.8633e-01 - val_accuracy: 0.5000\n",
            "Epoch 92/100\n",
            "11/11 - 0s - loss: -2.5167e-02 - accuracy: 0.4971 - val_loss: -2.8734e-01 - val_accuracy: 0.5000\n",
            "Epoch 93/100\n",
            "11/11 - 0s - loss: -2.5431e-02 - accuracy: 0.4971 - val_loss: -2.8903e-01 - val_accuracy: 0.5000\n",
            "Epoch 94/100\n",
            "11/11 - 0s - loss: -2.5957e-02 - accuracy: 0.4971 - val_loss: -2.9125e-01 - val_accuracy: 0.5000\n",
            "Epoch 95/100\n",
            "11/11 - 0s - loss: -2.6921e-02 - accuracy: 0.4971 - val_loss: -2.9273e-01 - val_accuracy: 0.5000\n",
            "Epoch 96/100\n",
            "11/11 - 0s - loss: -2.7361e-02 - accuracy: 0.4971 - val_loss: -2.9472e-01 - val_accuracy: 0.5000\n",
            "Epoch 97/100\n",
            "11/11 - 0s - loss: -2.7807e-02 - accuracy: 0.4971 - val_loss: -2.9689e-01 - val_accuracy: 0.5000\n",
            "Epoch 98/100\n",
            "11/11 - 0s - loss: -2.8494e-02 - accuracy: 0.4971 - val_loss: -2.9893e-01 - val_accuracy: 0.5000\n",
            "Epoch 99/100\n",
            "11/11 - 0s - loss: -2.9154e-02 - accuracy: 0.4971 - val_loss: -3.0060e-01 - val_accuracy: 0.5000\n",
            "Epoch 100/100\n",
            "11/11 - 0s - loss: -2.9582e-02 - accuracy: 0.4971 - val_loss: -3.0222e-01 - val_accuracy: 0.5000\n"
          ],
          "name": "stdout"
        }
      ]
    },
    {
      "cell_type": "code",
      "metadata": {
        "colab": {
          "base_uri": "https://localhost:8080/"
        },
        "id": "s2wdALpYsM6H",
        "outputId": "b581150b-43a1-4bcc-b4c1-e1bbe27777d4"
      },
      "source": [
        "_, acc = neural_model.evaluate(x_test, y_test,\n",
        "                            batch_size=64)\n",
        "acc = acc *100\n",
        "accuracies['Keras'] = acc\n",
        "print(\"Keras Algorithm Accuracy Score : {:.2f}%\".format(acc))"
      ],
      "execution_count": null,
      "outputs": [
        {
          "output_type": "stream",
          "text": [
            "2/2 [==============================] - 0s 6ms/step - loss: 0.2703 - accuracy: 0.5208\n",
            "Keras Algorithm Accuracy Score : 52.08%\n"
          ],
          "name": "stdout"
        }
      ]
    },
    {
      "cell_type": "markdown",
      "metadata": {
        "id": "ltvcYthFwzhp"
      },
      "source": [
        "Plot of a ROC"
      ]
    },
    {
      "cell_type": "markdown",
      "metadata": {
        "id": "wA6uqBajJI3q"
      },
      "source": [
        "# 7.- Comparacion de modelos y eleccion del mejor"
      ]
    },
    {
      "cell_type": "markdown",
      "metadata": {
        "id": "UtRy9VztJV88"
      },
      "source": [
        ""
      ]
    },
    {
      "cell_type": "code",
      "metadata": {
        "colab": {
          "base_uri": "https://localhost:8080/",
          "height": 360
        },
        "id": "eCzu2zFuI6MC",
        "outputId": "24330d6a-69f2-4330-ff61-3f86edb33e92"
      },
      "source": [
        "colors = [\"purple\", \"green\", \"orange\", \"magenta\",\"#CFC60E\",\"#0FBBAE\"]\n",
        "\n",
        "sns.set_style(\"whitegrid\")\n",
        "plt.figure(figsize=(16,5))\n",
        "plt.yticks(np.arange(0,100,10))\n",
        "plt.ylabel(\"Accuracy %\")\n",
        "plt.xlabel(\"Algorithms\")\n",
        "sns.barplot(x=list(accuracies.keys()), y=list(accuracies.values()), palette=colors)\n",
        "plt.show()"
      ],
      "execution_count": null,
      "outputs": [
        {
          "output_type": "display_data",
          "data": {
            "image/png": "[encoded data removed]",
            "text/plain": [
              "<Figure size 1152x360 with 1 Axes>"
            ]
          },
          "metadata": {
            "tags": []
          }
        }
      ]
    },
    {
      "cell_type": "markdown",
      "metadata": {
        "id": "N7lLVp2uJXAz"
      },
      "source": [
        "8.- Matrix de confusion "
      ]
    },
    {
      "cell_type": "code",
      "metadata": {
        "id": "MRmTYz2ZJHOa"
      },
      "source": [
        "# Predicted values\n",
        "y_head_lr = lr.predict(x_test)\n",
        "knn3 = KNeighborsClassifier(n_neighbors = 3)\n",
        "knn3.fit(x_train, y_train)\n",
        "y_head_knn = knn3.predict(x_test)\n",
        "y_head_svm = svm.predict(x_test)\n",
        "y_head_nb = nb.predict(x_test)\n",
        "y_head_dtc = dtc.predict(x_test)\n",
        "y_head_rf = rf.predict(x_test)\n"
      ],
      "execution_count": null,
      "outputs": []
    },
    {
      "cell_type": "code",
      "metadata": {
        "id": "nmjRpSnzJj6O"
      },
      "source": [
        "from sklearn.metrics import confusion_matrix\n",
        "cm_lr = confusion_matrix(y_test,y_head_lr)\n",
        "cm_knn = confusion_matrix(y_test,y_head_knn)\n",
        "cm_svm = confusion_matrix(y_test,y_head_svm)\n",
        "cm_nb = confusion_matrix(y_test,y_head_nb)\n",
        "cm_dtc = confusion_matrix(y_test,y_head_dtc)\n",
        "cm_rf = confusion_matrix(y_test,y_head_rf)\n"
      ],
      "execution_count": null,
      "outputs": []
    },
    {
      "cell_type": "code",
      "metadata": {
        "colab": {
          "base_uri": "https://localhost:8080/",
          "height": 696
        },
        "id": "ySXIn8l9JsHx",
        "outputId": "fe4c3d79-cf30-494e-e15c-e48f7f51c265"
      },
      "source": [
        "plt.figure(figsize=(24,12))\n",
        "\n",
        "plt.suptitle(\"Confusion Matrixes\",fontsize=24)\n",
        "plt.subplots_adjust(wspace = 0.4, hspace= 0.4)\n",
        "\n",
        "plt.subplot(2,3,1)\n",
        "plt.title(\"Logistic Regression Confusion Matrix\")\n",
        "sns.heatmap(cm_lr,annot=True,cmap=\"Blues\",fmt=\"d\",cbar=False, annot_kws={\"size\": 24})\n",
        "\n",
        "plt.subplot(2,3,2)\n",
        "plt.title(\"K Nearest Neighbors Confusion Matrix\")\n",
        "sns.heatmap(cm_knn,annot=True,cmap=\"Blues\",fmt=\"d\",cbar=False, annot_kws={\"size\": 24})\n",
        "\n",
        "plt.subplot(2,3,3)\n",
        "plt.title(\"Support Vector Machine Confusion Matrix\")\n",
        "sns.heatmap(cm_svm,annot=True,cmap=\"Blues\",fmt=\"d\",cbar=False, annot_kws={\"size\": 24})\n",
        "\n",
        "plt.subplot(2,3,4)\n",
        "plt.title(\"Naive Bayes Confusion Matrix\")\n",
        "sns.heatmap(cm_nb,annot=True,cmap=\"Blues\",fmt=\"d\",cbar=False, annot_kws={\"size\": 24})\n",
        "\n",
        "plt.subplot(2,3,5)\n",
        "plt.title(\"Decision Tree Classifier Confusion Matrix\")\n",
        "sns.heatmap(cm_dtc,annot=True,cmap=\"Blues\",fmt=\"d\",cbar=False, annot_kws={\"size\": 24})\n",
        "\n",
        "plt.subplot(2,3,6)\n",
        "plt.title(\"Random Forest Confusion Matrix\")\n",
        "sns.heatmap(cm_rf,annot=True,cmap=\"Blues\",fmt=\"d\",cbar=False, annot_kws={\"size\": 24})\n",
        "\n",
        "\n",
        "plt.show()"
      ],
      "execution_count": null,
      "outputs": [
        {
          "output_type": "display_data",
          "data": {
            "image/png": "[encoded data removed]",
            "text/plain": [
              "<Figure size 1728x864 with 6 Axes>"
            ]
          },
          "metadata": {
            "tags": []
          }
        }
      ]
    },
    {
      "cell_type": "markdown",
      "metadata": {
        "id": "eWwcdkAcahDi"
      },
      "source": [
        "# 9.- Mejor modelo (Randon Forest)\n"
      ]
    },
    {
      "cell_type": "markdown",
      "metadata": {
        "id": "WrMGH5qfxok2"
      },
      "source": [
        "## K Fold Cross Validation (Randon Forest)"
      ]
    },
    {
      "cell_type": "markdown",
      "metadata": {
        "id": "uBvJTw9yzAeE"
      },
      "source": [
        "https://www.kaggle.com/niklasdonges/end-to-end-project-with-python"
      ]
    },
    {
      "cell_type": "code",
      "metadata": {
        "id": "wxBmeRjVxrrC"
      },
      "source": [
        "from sklearn.model_selection import cross_val_score\n",
        "rf_model = RandomForestClassifier(n_estimators=100)\n",
        "scores = cross_val_score(rf_model, x_train, y_train, cv=10, scoring = \"accuracy\")"
      ],
      "execution_count": null,
      "outputs": []
    },
    {
      "cell_type": "code",
      "metadata": {
        "colab": {
          "base_uri": "https://localhost:8080/"
        },
        "id": "pJP68zXZxhFy",
        "outputId": "f010a5f2-3e19-436e-ebaf-e079b0a12aeb"
      },
      "source": [
        "print(\"Scores:\", scores)\n",
        "print(\"Mean:\", scores.mean())\n",
        "print(\"Standard Deviation:\", scores.std())"
      ],
      "execution_count": null,
      "outputs": [
        {
          "output_type": "stream",
          "text": [
            "Scores: [1.         0.97368421 0.97368421 0.92105263 0.97368421 0.94736842\n",
            " 1.         1.         0.97368421 1.        ]\n",
            "Mean: 0.9763157894736842\n",
            "Standard Deviation: 0.024826266136991074\n"
          ],
          "name": "stdout"
        }
      ]
    },
    {
      "cell_type": "markdown",
      "metadata": {
        "id": "ZgoSH3Hyz8wy"
      },
      "source": [
        "## Feature Importance (Randon Forest)\n"
      ]
    },
    {
      "cell_type": "markdown",
      "metadata": {
        "id": "Gy9bM0N_EGRp"
      },
      "source": [
        "https://christophm.github.io/interpretable-ml-book/feature-importance.html"
      ]
    },
    {
      "cell_type": "code",
      "metadata": {
        "id": "pDG2CGDl0HmR"
      },
      "source": [
        "importances = pd.DataFrame({'feature':x_train.columns,'importance':np.round(rf.feature_importances_,3)})\n",
        "importances = importances.sort_values('importance',ascending=False).set_index('feature')"
      ],
      "execution_count": null,
      "outputs": []
    },
    {
      "cell_type": "code",
      "metadata": {
        "colab": {
          "base_uri": "https://localhost:8080/",
          "height": 683
        },
        "id": "XW1o-VRY2jrG",
        "outputId": "d0f2441f-0dfe-4f1d-e508-8154efc4af46"
      },
      "source": [
        "importances.head(20)"
      ],
      "execution_count": null,
      "outputs": [
        {
          "output_type": "execute_result",
          "data": {
            "text/html": [
              "<div>\n",
              "<style scoped>\n",
              "    .dataframe tbody tr th:only-of-type {\n",
              "        vertical-align: middle;\n",
              "    }\n",
              "\n",
              "    .dataframe tbody tr th {\n",
              "        vertical-align: top;\n",
              "    }\n",
              "\n",
              "    .dataframe thead th {\n",
              "        text-align: right;\n",
              "    }\n",
              "</style>\n",
              "<table border=\"1\" class=\"dataframe\">\n",
              "  <thead>\n",
              "    <tr style=\"text-align: right;\">\n",
              "      <th></th>\n",
              "      <th>importance</th>\n",
              "    </tr>\n",
              "    <tr>\n",
              "      <th>feature</th>\n",
              "      <th></th>\n",
              "    </tr>\n",
              "  </thead>\n",
              "  <tbody>\n",
              "    <tr>\n",
              "      <th>Cost per on-Facebook lead</th>\n",
              "      <td>0.446</td>\n",
              "    </tr>\n",
              "    <tr>\n",
              "      <th>Cost</th>\n",
              "      <td>0.119</td>\n",
              "    </tr>\n",
              "    <tr>\n",
              "      <th>Rate</th>\n",
              "      <td>0.103</td>\n",
              "    </tr>\n",
              "    <tr>\n",
              "      <th>Reach</th>\n",
              "      <td>0.077</td>\n",
              "    </tr>\n",
              "    <tr>\n",
              "      <th>Impressions</th>\n",
              "      <td>0.070</td>\n",
              "    </tr>\n",
              "    <tr>\n",
              "      <th>Link clicks</th>\n",
              "      <td>0.042</td>\n",
              "    </tr>\n",
              "    <tr>\n",
              "      <th>Unique leads</th>\n",
              "      <td>0.029</td>\n",
              "    </tr>\n",
              "    <tr>\n",
              "      <th>CTR</th>\n",
              "      <td>0.027</td>\n",
              "    </tr>\n",
              "    <tr>\n",
              "      <th>Month</th>\n",
              "      <td>0.022</td>\n",
              "    </tr>\n",
              "    <tr>\n",
              "      <th>NumMessage</th>\n",
              "      <td>0.014</td>\n",
              "    </tr>\n",
              "    <tr>\n",
              "      <th>NumCaption</th>\n",
              "      <td>0.011</td>\n",
              "    </tr>\n",
              "    <tr>\n",
              "      <th>NumDescripcion</th>\n",
              "      <td>0.010</td>\n",
              "    </tr>\n",
              "    <tr>\n",
              "      <th>Targeting minimum age</th>\n",
              "      <td>0.006</td>\n",
              "    </tr>\n",
              "    <tr>\n",
              "      <th>Targeting maximum age</th>\n",
              "      <td>0.004</td>\n",
              "    </tr>\n",
              "    <tr>\n",
              "      <th>type_35-44</th>\n",
              "      <td>0.004</td>\n",
              "    </tr>\n",
              "    <tr>\n",
              "      <th>type_female</th>\n",
              "      <td>0.003</td>\n",
              "    </tr>\n",
              "    <tr>\n",
              "      <th>type_male</th>\n",
              "      <td>0.003</td>\n",
              "    </tr>\n",
              "    <tr>\n",
              "      <th>type_18-24</th>\n",
              "      <td>0.002</td>\n",
              "    </tr>\n",
              "    <tr>\n",
              "      <th>type_25-34</th>\n",
              "      <td>0.002</td>\n",
              "    </tr>\n",
              "    <tr>\n",
              "      <th>type_45-54</th>\n",
              "      <td>0.002</td>\n",
              "    </tr>\n",
              "  </tbody>\n",
              "</table>\n",
              "</div>"
            ],
            "text/plain": [
              "                           importance\n",
              "feature                              \n",
              "Cost per on-Facebook lead       0.446\n",
              "Cost                            0.119\n",
              "Rate                            0.103\n",
              "Reach                           0.077\n",
              "Impressions                     0.070\n",
              "Link clicks                     0.042\n",
              "Unique leads                    0.029\n",
              "CTR                             0.027\n",
              "Month                           0.022\n",
              "NumMessage                      0.014\n",
              "NumCaption                      0.011\n",
              "NumDescripcion                  0.010\n",
              "Targeting minimum age           0.006\n",
              "Targeting maximum age           0.004\n",
              "type_35-44                      0.004\n",
              "type_female                     0.003\n",
              "type_male                       0.003\n",
              "type_18-24                      0.002\n",
              "type_25-34                      0.002\n",
              "type_45-54                      0.002"
            ]
          },
          "metadata": {
            "tags": []
          },
          "execution_count": 84
        }
      ]
    },
    {
      "cell_type": "code",
      "metadata": {
        "colab": {
          "base_uri": "https://localhost:8080/",
          "height": 595
        },
        "id": "LZQ95yQ15Phx",
        "outputId": "dea6bfa3-d79d-434a-89fa-771cc6551bdb"
      },
      "source": [
        "importances.plot.bar()"
      ],
      "execution_count": null,
      "outputs": [
        {
          "output_type": "execute_result",
          "data": {
            "text/plain": [
              "<matplotlib.axes._subplots.AxesSubplot at 0x7fbb4f689bd0>"
            ]
          },
          "metadata": {
            "tags": []
          },
          "execution_count": 143
        },
        {
          "output_type": "display_data",
          "data": {
            "image/png": "[encoded data removed]",
            "text/plain": [
              "<Figure size 432x288 with 1 Axes>"
            ]
          },
          "metadata": {
            "tags": []
          }
        }
      ]
    },
    {
      "cell_type": "code",
      "metadata": {
        "id": "QB7XpbmXQQgh"
      },
      "source": [
        "variables= ['Cost per on-Facebook lead','Targeting minimum age', 'Targeting maximum age', 'type_female', 'type_male', 'type_18-24', 'type_25-34',\n",
        "       'type_35-44', 'type_45-54', 'type_55-64', 'type_65+']\n",
        "x_train_t = x_train.drop(variables, axis=1)\n",
        "x_test_t= x_test.drop(variables, axis=1)\n"
      ],
      "execution_count": null,
      "outputs": []
    },
    {
      "cell_type": "code",
      "metadata": {
        "colab": {
          "base_uri": "https://localhost:8080/"
        },
        "id": "Gdcd1O0yW2rJ",
        "outputId": "2f691fc3-6d05-4b3c-9ea5-36f9a03db368"
      },
      "source": [
        "# Training random forest again:\n",
        "\n",
        "random_forest = RandomForestClassifier(n_estimators=100, oob_score = True)\n",
        "random_forest.fit(x_train_t, y_train)\n",
        "Y_prediction = random_forest.predict(x_test_t)\n",
        "\n",
        "\n",
        "random_forest.score(x_train_t, y_train)\n",
        "\n",
        "\n",
        "acc_random_forest = round(random_forest.score(x_train_t, y_train) * 100, 2)\n",
        "print(round(acc_random_forest,2,), \"%\")\n"
      ],
      "execution_count": null,
      "outputs": [
        {
          "output_type": "stream",
          "text": [
            "100.0 %\n"
          ],
          "name": "stdout"
        }
      ]
    },
    {
      "cell_type": "code",
      "metadata": {
        "colab": {
          "base_uri": "https://localhost:8080/"
        },
        "id": "D_NGfMY2ZIRo",
        "outputId": "3fb0d64d-5e94-4d1c-bfb7-1c5de79f66e0"
      },
      "source": [
        "print(\"oob score:\", round(random_forest.oob_score_, 4)*100, \"%\")"
      ],
      "execution_count": null,
      "outputs": [
        {
          "output_type": "stream",
          "text": [
            "oob score: 98.95 %\n"
          ],
          "name": "stdout"
        }
      ]
    },
    {
      "cell_type": "markdown",
      "metadata": {
        "id": "cKAMbT00ZS3B"
      },
      "source": [
        "## Hyperparameter Tuning"
      ]
    },
    {
      "cell_type": "code",
      "metadata": {
        "colab": {
          "base_uri": "https://localhost:8080/"
        },
        "id": "zGW7WBnWZaPT",
        "outputId": "6a92b9fc-9585-4972-ad91-2223f09cf031"
      },
      "source": [
        "# Random Forest\n",
        "random_forest = RandomForestClassifier(criterion = \"gini\", \n",
        "                                       min_samples_leaf = 1, \n",
        "                                       min_samples_split = 10,   \n",
        "                                       n_estimators=100, \n",
        "                                       max_features='auto', \n",
        "                                       oob_score=True, \n",
        "                                       random_state=1, \n",
        "                                       n_jobs=-1)\n",
        "\n",
        "random_forest.fit(x_train_t, y_train)\n",
        "Y_prediction = random_forest.predict(x_test_t)\n",
        "\n",
        "random_forest.score(x_train_t, y_train)\n",
        "\n",
        "print(\"oob score:\", round(random_forest.oob_score_, 4)*100, \"%\")"
      ],
      "execution_count": null,
      "outputs": [
        {
          "output_type": "stream",
          "text": [
            "oob score: 98.16 %\n"
          ],
          "name": "stdout"
        }
      ]
    },
    {
      "cell_type": "markdown",
      "metadata": {
        "id": "16eHS42nb78H"
      },
      "source": [
        "## Further Evaluation"
      ]
    },
    {
      "cell_type": "code",
      "metadata": {
        "colab": {
          "base_uri": "https://localhost:8080/"
        },
        "id": "MyJmQZnzcFWT",
        "outputId": "10977e91-4f73-431a-99e7-9e05331d6c94"
      },
      "source": [
        "#Confusion Matrix:\n",
        "from sklearn.model_selection import cross_val_predict\n",
        "from sklearn.metrics import confusion_matrix\n",
        "predictions = cross_val_predict(random_forest, x_train_t, y_train, cv=3)\n",
        "confusion_matrix(y_train, predictions)"
      ],
      "execution_count": null,
      "outputs": [
        {
          "output_type": "execute_result",
          "data": {
            "text/plain": [
              "array([[ 90,   2,   0],\n",
              "       [  0, 187,   2],\n",
              "       [  0,   3,  96]])"
            ]
          },
          "metadata": {
            "tags": []
          },
          "execution_count": 88
        }
      ]
    },
    {
      "cell_type": "code",
      "metadata": {
        "id": "kQthefWndXv7"
      },
      "source": [
        "predictions "
      ],
      "execution_count": null,
      "outputs": []
    },
    {
      "cell_type": "code",
      "metadata": {
        "colab": {
          "base_uri": "https://localhost:8080/"
        },
        "id": "BuPkQ99WcZVJ",
        "outputId": "dbcefe2f-fc39-458b-a070-b7f01aa66584"
      },
      "source": [
        "#Precision and Recal\n",
        "from sklearn.metrics import precision_score, recall_score\n",
        "\n",
        "print(\"Precision:\", precision_score(y_train, predictions,average=None))\n",
        "print(\"Recall:\",recall_score(y_train, predictions, average=None))"
      ],
      "execution_count": null,
      "outputs": [
        {
          "output_type": "stream",
          "text": [
            "Precision: [1.         0.97395833 0.97959184]\n",
            "Recall: [0.97826087 0.98941799 0.96969697]\n"
          ],
          "name": "stdout"
        }
      ]
    },
    {
      "cell_type": "code",
      "metadata": {
        "colab": {
          "base_uri": "https://localhost:8080/"
        },
        "id": "V9u82p79fWYL",
        "outputId": "7cb5460e-9f78-4cb0-91aa-c4c03ca12639"
      },
      "source": [
        "# F-Score\n",
        "from sklearn.metrics import f1_score\n",
        "f1_score(y_train, predictions, average=None)"
      ],
      "execution_count": null,
      "outputs": [
        {
          "output_type": "execute_result",
          "data": {
            "text/plain": [
              "array([0.98360656, 0.97894737, 0.97461929])"
            ]
          },
          "metadata": {
            "tags": []
          },
          "execution_count": 176
        }
      ]
    },
    {
      "cell_type": "code",
      "metadata": {
        "id": "RNz8Jr8efpeq"
      },
      "source": [
        "#Precision Recall Curv\n",
        "from sklearn.metrics import precision_recall_curve\n",
        "\n",
        "# getting the probabilities of our predictions\n",
        "y_scores = random_forest.predict_proba(x_train_t)\n",
        "y_scores = y_scores[:,1]\n",
        "\n",
        "precision, recall, threshold = precision_recall_curve(y_train, y_scores)"
      ],
      "execution_count": null,
      "outputs": []
    }
  ]
}